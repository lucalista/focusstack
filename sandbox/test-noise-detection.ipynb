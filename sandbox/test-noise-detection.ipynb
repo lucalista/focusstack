{
 "cells": [
  {
   "cell_type": "code",
   "execution_count": 1,
   "id": "3b82186a-ec03-4984-869f-bd037960cd7f",
   "metadata": {},
   "outputs": [],
   "source": [
    "import cv2\n",
    "import numpy as np\n",
    "from glob import glob\n",
    "import matplotlib.pyplot as plt"
   ]
  },
  {
   "cell_type": "code",
   "execution_count": 2,
   "id": "f21d17fb-253e-4a43-ba58-ba61e3490aff",
   "metadata": {},
   "outputs": [],
   "source": [
    "def mean_image(folder_path, max_files=-1):\n",
    "    image_paths = glob(folder_path + \"*.tif\")[:max_files]\n",
    "    first_time = True\n",
    "    for path in image_paths:\n",
    "        print(path)\n",
    "        img = cv2.imread(path, cv2.IMREAD_COLOR)\n",
    "        if first_time:\n",
    "            first_time = False\n",
    "            mean_img = img.astype(np.float64)\n",
    "        else:\n",
    "            mean_img += img\n",
    "    return (mean_img/len(image_paths)).astype(np.uint8)\n",
    "\n",
    "def detect_colored_noise(mean_img, channel_thresholds=(15, 15, 15)):\n",
    "    blurred = cv2.GaussianBlur(mean_img, (5, 5), 0)\n",
    "    diff = cv2.absdiff(mean_img, blurred)\n",
    "    b, g, r = cv2.split(diff)\n",
    "    _, hot_b = cv2.threshold(b, channel_thresholds[0], 255, cv2.THRESH_BINARY)\n",
    "    _, hot_g = cv2.threshold(g, channel_thresholds[1], 255, cv2.THRESH_BINARY)\n",
    "    _, hot_r = cv2.threshold(r, channel_thresholds[2], 255, cv2.THRESH_BINARY)\n",
    "    hot_rgb = cv2.bitwise_or(hot_r, cv2.bitwise_or(hot_g, hot_b))\n",
    "    print(\"hot pixels, r: {}\".format(hot_r[hot_r>0].size))\n",
    "    print(\"hot pixels, g: {}\".format(hot_g[hot_g>0].size))\n",
    "    print(\"hot pixels, b: {}\".format(hot_b[hot_b>0].size))\n",
    "    print(\"hot pixels, rgb: {}\".format(hot_rgb[hot_rgb>0].size))\n",
    "    return hot_rgb, (hot_b, hot_g, hot_r)"
   ]
  },
  {
   "cell_type": "code",
   "execution_count": 3,
   "id": "0427de84-0376-470f-b003-1ede71a0a07b",
   "metadata": {},
   "outputs": [],
   "source": [
    "def correct_defective_pixels(image, defect_mask, kernel_size=3, method='mean'):\n",
    "    if len(image.shape) == 3:\n",
    "        corrected = image.copy()\n",
    "        for c in range(3):\n",
    "            channel = image[:, :, c]\n",
    "            defect_channel = defect_mask > 0\n",
    "            corrected[:, :, c] = _correct_channel(channel, defect_channel, kernel_size, method)\n",
    "    else:\n",
    "        corrected = _correct_channel(image, defect_mask > 0, kernel_size, method)\n",
    "    return corrected\n",
    "    \n",
    "def _correct_channel(channel, defect_mask, kernel_size, method):\n",
    "    corrected = channel.copy()\n",
    "    defect_coords = np.argwhere(defect_mask)\n",
    "    for y, x in defect_coords:\n",
    "        neighborhood = channel[\n",
    "            max(0, y - kernel_size//2):min(channel.shape[0], y + kernel_size//2 + 1),\n",
    "            max(0, x - kernel_size//2):min(channel.shape[1], x + kernel_size//2 + 1)\n",
    "        ]        \n",
    "        valid_pixels = neighborhood[neighborhood != 0]  # Opzionale: escludi altri pixel difettosi se necessario\n",
    "        if len(valid_pixels) > 0:\n",
    "            if method == 'mean':\n",
    "                corrected[y, x] = np.mean(valid_pixels)\n",
    "            elif method == 'median':\n",
    "                corrected[y, x] = np.median(valid_pixels)\n",
    "    return corrected"
   ]
  },
  {
   "cell_type": "code",
   "execution_count": 4,
   "id": "bcae07eb-e9b5-401e-be8f-d4bb3e24b6f3",
   "metadata": {},
   "outputs": [
    {
     "name": "stdout",
     "output_type": "stream",
     "text": [
      "E:/Focus stacking/2025-04-21 - Hemiptera/J/src\\_MG_9376.tif\n",
      "E:/Focus stacking/2025-04-21 - Hemiptera/J/src\\_MG_9377.tif\n",
      "E:/Focus stacking/2025-04-21 - Hemiptera/J/src\\_MG_9378.tif\n",
      "E:/Focus stacking/2025-04-21 - Hemiptera/J/src\\_MG_9379.tif\n",
      "E:/Focus stacking/2025-04-21 - Hemiptera/J/src\\_MG_9380.tif\n",
      "E:/Focus stacking/2025-04-21 - Hemiptera/J/src\\_MG_9381.tif\n",
      "E:/Focus stacking/2025-04-21 - Hemiptera/J/src\\_MG_9382.tif\n",
      "E:/Focus stacking/2025-04-21 - Hemiptera/J/src\\_MG_9383.tif\n",
      "E:/Focus stacking/2025-04-21 - Hemiptera/J/src\\_MG_9384.tif\n",
      "E:/Focus stacking/2025-04-21 - Hemiptera/J/src\\_MG_9385.tif\n",
      "E:/Focus stacking/2025-04-21 - Hemiptera/J/src\\_MG_9386.tif\n",
      "E:/Focus stacking/2025-04-21 - Hemiptera/J/src\\_MG_9387.tif\n",
      "E:/Focus stacking/2025-04-21 - Hemiptera/J/src\\_MG_9388.tif\n",
      "E:/Focus stacking/2025-04-21 - Hemiptera/J/src\\_MG_9389.tif\n",
      "E:/Focus stacking/2025-04-21 - Hemiptera/J/src\\_MG_9390.tif\n",
      "E:/Focus stacking/2025-04-21 - Hemiptera/J/src\\_MG_9391.tif\n",
      "E:/Focus stacking/2025-04-21 - Hemiptera/J/src\\_MG_9392.tif\n",
      "E:/Focus stacking/2025-04-21 - Hemiptera/J/src\\_MG_9393.tif\n",
      "E:/Focus stacking/2025-04-21 - Hemiptera/J/src\\_MG_9394.tif\n",
      "E:/Focus stacking/2025-04-21 - Hemiptera/J/src\\_MG_9395.tif\n",
      "E:/Focus stacking/2025-04-21 - Hemiptera/J/src\\_MG_9396.tif\n",
      "E:/Focus stacking/2025-04-21 - Hemiptera/J/src\\_MG_9397.tif\n",
      "E:/Focus stacking/2025-04-21 - Hemiptera/J/src\\_MG_9398.tif\n",
      "E:/Focus stacking/2025-04-21 - Hemiptera/J/src\\_MG_9399.tif\n",
      "E:/Focus stacking/2025-04-21 - Hemiptera/J/src\\_MG_9400.tif\n",
      "E:/Focus stacking/2025-04-21 - Hemiptera/J/src\\_MG_9401.tif\n",
      "E:/Focus stacking/2025-04-21 - Hemiptera/J/src\\_MG_9402.tif\n",
      "E:/Focus stacking/2025-04-21 - Hemiptera/J/src\\_MG_9403.tif\n",
      "E:/Focus stacking/2025-04-21 - Hemiptera/J/src\\_MG_9404.tif\n",
      "E:/Focus stacking/2025-04-21 - Hemiptera/J/src\\_MG_9405.tif\n",
      "E:/Focus stacking/2025-04-21 - Hemiptera/J/src\\_MG_9406.tif\n",
      "E:/Focus stacking/2025-04-21 - Hemiptera/J/src\\_MG_9407.tif\n",
      "E:/Focus stacking/2025-04-21 - Hemiptera/J/src\\_MG_9408.tif\n",
      "E:/Focus stacking/2025-04-21 - Hemiptera/J/src\\_MG_9409.tif\n",
      "E:/Focus stacking/2025-04-21 - Hemiptera/J/src\\_MG_9410.tif\n",
      "E:/Focus stacking/2025-04-21 - Hemiptera/J/src\\_MG_9411.tif\n",
      "E:/Focus stacking/2025-04-21 - Hemiptera/J/src\\_MG_9412.tif\n",
      "E:/Focus stacking/2025-04-21 - Hemiptera/J/src\\_MG_9413.tif\n",
      "E:/Focus stacking/2025-04-21 - Hemiptera/J/src\\_MG_9414.tif\n",
      "E:/Focus stacking/2025-04-21 - Hemiptera/J/src\\_MG_9415.tif\n",
      "E:/Focus stacking/2025-04-21 - Hemiptera/J/src\\_MG_9416.tif\n",
      "E:/Focus stacking/2025-04-21 - Hemiptera/J/src\\_MG_9417.tif\n",
      "E:/Focus stacking/2025-04-21 - Hemiptera/J/src\\_MG_9418.tif\n",
      "E:/Focus stacking/2025-04-21 - Hemiptera/J/src\\_MG_9419.tif\n",
      "E:/Focus stacking/2025-04-21 - Hemiptera/J/src\\_MG_9420.tif\n",
      "E:/Focus stacking/2025-04-21 - Hemiptera/J/src\\_MG_9421.tif\n",
      "E:/Focus stacking/2025-04-21 - Hemiptera/J/src\\_MG_9422.tif\n",
      "E:/Focus stacking/2025-04-21 - Hemiptera/J/src\\_MG_9423.tif\n",
      "E:/Focus stacking/2025-04-21 - Hemiptera/J/src\\_MG_9424.tif\n",
      "E:/Focus stacking/2025-04-21 - Hemiptera/J/src\\_MG_9425.tif\n",
      "E:/Focus stacking/2025-04-21 - Hemiptera/J/src\\_MG_9426.tif\n",
      "E:/Focus stacking/2025-04-21 - Hemiptera/J/src\\_MG_9427.tif\n",
      "E:/Focus stacking/2025-04-21 - Hemiptera/J/src\\_MG_9428.tif\n",
      "E:/Focus stacking/2025-04-21 - Hemiptera/J/src\\_MG_9429.tif\n",
      "E:/Focus stacking/2025-04-21 - Hemiptera/J/src\\_MG_9430.tif\n",
      "E:/Focus stacking/2025-04-21 - Hemiptera/J/src\\_MG_9431.tif\n",
      "E:/Focus stacking/2025-04-21 - Hemiptera/J/src\\_MG_9432.tif\n",
      "E:/Focus stacking/2025-04-21 - Hemiptera/J/src\\_MG_9433.tif\n",
      "E:/Focus stacking/2025-04-21 - Hemiptera/J/src\\_MG_9434.tif\n",
      "E:/Focus stacking/2025-04-21 - Hemiptera/J/src\\_MG_9435.tif\n",
      "E:/Focus stacking/2025-04-21 - Hemiptera/J/src\\_MG_9436.tif\n",
      "E:/Focus stacking/2025-04-21 - Hemiptera/J/src\\_MG_9437.tif\n",
      "E:/Focus stacking/2025-04-21 - Hemiptera/J/src\\_MG_9438.tif\n",
      "E:/Focus stacking/2025-04-21 - Hemiptera/J/src\\_MG_9439.tif\n",
      "E:/Focus stacking/2025-04-21 - Hemiptera/J/src\\_MG_9440.tif\n",
      "E:/Focus stacking/2025-04-21 - Hemiptera/J/src\\_MG_9441.tif\n",
      "E:/Focus stacking/2025-04-21 - Hemiptera/J/src\\_MG_9442.tif\n",
      "E:/Focus stacking/2025-04-21 - Hemiptera/J/src\\_MG_9443.tif\n",
      "E:/Focus stacking/2025-04-21 - Hemiptera/J/src\\_MG_9444.tif\n",
      "E:/Focus stacking/2025-04-21 - Hemiptera/J/src\\_MG_9445.tif\n",
      "E:/Focus stacking/2025-04-21 - Hemiptera/J/src\\_MG_9446.tif\n",
      "E:/Focus stacking/2025-04-21 - Hemiptera/J/src\\_MG_9447.tif\n",
      "E:/Focus stacking/2025-04-21 - Hemiptera/J/src\\_MG_9448.tif\n",
      "E:/Focus stacking/2025-04-21 - Hemiptera/J/src\\_MG_9449.tif\n",
      "E:/Focus stacking/2025-04-21 - Hemiptera/J/src\\_MG_9450.tif\n",
      "E:/Focus stacking/2025-04-21 - Hemiptera/J/src\\_MG_9451.tif\n",
      "E:/Focus stacking/2025-04-21 - Hemiptera/J/src\\_MG_9452.tif\n",
      "E:/Focus stacking/2025-04-21 - Hemiptera/J/src\\_MG_9453.tif\n",
      "E:/Focus stacking/2025-04-21 - Hemiptera/J/src\\_MG_9454.tif\n",
      "E:/Focus stacking/2025-04-21 - Hemiptera/J/src\\_MG_9455.tif\n",
      "E:/Focus stacking/2025-04-21 - Hemiptera/J/src\\_MG_9456.tif\n",
      "E:/Focus stacking/2025-04-21 - Hemiptera/J/src\\_MG_9457.tif\n",
      "E:/Focus stacking/2025-04-21 - Hemiptera/J/src\\_MG_9458.tif\n",
      "E:/Focus stacking/2025-04-21 - Hemiptera/J/src\\_MG_9459.tif\n",
      "E:/Focus stacking/2025-04-21 - Hemiptera/J/src\\_MG_9460.tif\n",
      "E:/Focus stacking/2025-04-21 - Hemiptera/J/src\\_MG_9461.tif\n",
      "E:/Focus stacking/2025-04-21 - Hemiptera/J/src\\_MG_9462.tif\n",
      "E:/Focus stacking/2025-04-21 - Hemiptera/J/src\\_MG_9463.tif\n",
      "hot pixels, r: 7\n",
      "hot pixels, g: 10\n",
      "hot pixels, b: 73\n",
      "hot pixels, rgb: 74\n"
     ]
    }
   ],
   "source": [
    "input_path = \"E:/Focus stacking/2025-04-21 - Hemiptera/J/src/\"\n",
    "mean_img = mean_image(input_path, 100)\n",
    "hot_rgb, (hot_b, hot_g, hot_r) = detect_colored_noise(mean_img)"
   ]
  },
  {
   "cell_type": "code",
   "execution_count": 6,
   "id": "40728e9d-e073-4448-ad3c-065cbc7b5a51",
   "metadata": {},
   "outputs": [
    {
     "data": {
      "text/plain": [
       "True"
      ]
     },
     "execution_count": 6,
     "metadata": {},
     "output_type": "execute_result"
    }
   ],
   "source": [
    "out_path = \"E:/Focus stacking/2025-04-21 - Hemiptera/J/noise/\"\n",
    "cv2.imwrite(out_path + \"hot_b.png\", hot_b)\n",
    "cv2.imwrite(out_path + \"hot_g.png\", hot_g)\n",
    "cv2.imwrite(out_path + \"hot_r.png\", hot_r)\n",
    "cv2.imwrite(out_path + \"hot_rgb.png\", hot_rgb)\n",
    "cv2.imwrite(out_path + \"mean_img.tif\", mean_img)"
   ]
  },
  {
   "cell_type": "code",
   "execution_count": 7,
   "id": "164ef2be-664a-49b6-b8d4-ce77855e1d4b",
   "metadata": {},
   "outputs": [
    {
     "data": {
      "text/plain": [
       "True"
      ]
     },
     "execution_count": 7,
     "metadata": {},
     "output_type": "execute_result"
    }
   ],
   "source": [
    "image = cv2.imread(input_path + \"/_MG_9376.tif\")\n",
    "defect_mask = cv2.imread(out_path + \"hot_rgb.png\", cv2.IMREAD_GRAYSCALE)  # Maschera binaria\n",
    "corrected_image = correct_defective_pixels(image, defect_mask, kernel_size=5, method='median')\n",
    "cv2.imwrite(out_path + \"orig.tif\", image)\n",
    "cv2.imwrite(out_path + \"corr.tif\", corrected_image)"
   ]
  },
  {
   "cell_type": "code",
   "execution_count": null,
   "id": "de827da8-8134-431a-bb2a-ba48b4d68738",
   "metadata": {},
   "outputs": [],
   "source": []
  },
  {
   "cell_type": "code",
   "execution_count": null,
   "id": "5438023f-c23d-4a6b-b9ab-339df18e8a29",
   "metadata": {},
   "outputs": [],
   "source": []
  }
 ],
 "metadata": {
  "kernelspec": {
   "display_name": "Python 3 (ipykernel)",
   "language": "python",
   "name": "python3"
  },
  "language_info": {
   "codemirror_mode": {
    "name": "ipython",
    "version": 3
   },
   "file_extension": ".py",
   "mimetype": "text/x-python",
   "name": "python",
   "nbconvert_exporter": "python",
   "pygments_lexer": "ipython3",
   "version": "3.13.3"
  }
 },
 "nbformat": 4,
 "nbformat_minor": 5
}
