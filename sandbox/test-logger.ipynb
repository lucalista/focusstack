{
 "cells": [
  {
   "cell_type": "code",
   "execution_count": 1,
   "id": "b0f0cd79-90a8-4a78-9334-cb2f4d467069",
   "metadata": {},
   "outputs": [
    {
     "name": "stdout",
     "output_type": "stream",
     "text": [
      "__main__\n"
     ]
    }
   ],
   "source": [
    "import logging\n",
    "print(__name__)"
   ]
  },
  {
   "cell_type": "code",
   "execution_count": 2,
   "id": "d01abce8-a57e-42a1-9327-cc9ee8e67650",
   "metadata": {},
   "outputs": [],
   "source": [
    "BLACK = '\\033[30m'\n",
    "RED = '\\033[31m'\n",
    "BOLD_RED = \"\\x1b[31;1m\"\n",
    "GREEN = '\\033[32m'\n",
    "YELLOW = '\\033[33m'\n",
    "BLUE = '\\033[34m'\n",
    "MAGENTA = '\\033[35m'\n",
    "CYAN = '\\033[36m'\n",
    "WHITE = '\\033[37m'\n",
    "UNDERLINE = '\\033[4m'\n",
    "GREY = \"\\x1b[38;20m\"\n",
    "RESET = '\\033[0m'"
   ]
  },
  {
   "cell_type": "code",
   "execution_count": 3,
   "id": "26227fa2-4cee-4e35-8c2e-4e83e4d603f9",
   "metadata": {},
   "outputs": [],
   "source": [
    "class CustomFormatter(logging.Formatter):\n",
    "    format = \"[%(levelname).3s %(asctime)s]\"\n",
    "    FORMATS = {\n",
    "        logging.DEBUG: CYAN + format + RESET + ' %(message)s',\n",
    "        logging.INFO: GREEN + format + RESET + ' %(message)s',\n",
    "        logging.WARNING: YELLOW + format + RESET + ' %(message)s',\n",
    "        logging.ERROR: RED + format + RESET + ' %(message)s',\n",
    "        logging.CRITICAL: MAGENTA + format + RESET + ' %(message)s'\n",
    "    }\n",
    "    def format(self, record):\n",
    "        log_fmt = self.FORMATS.get(record.levelno)\n",
    "        formatter = logging.Formatter(log_fmt)\n",
    "        return formatter.format(record)"
   ]
  },
  {
   "cell_type": "code",
   "execution_count": 4,
   "id": "6987de33-83e7-4278-ac97-16ff46a9ab11",
   "metadata": {},
   "outputs": [],
   "source": [
    "logger = logging.getLogger(__name__)\n",
    "logger.setLevel(logging.DEBUG)\n",
    "ch = logging.FileHandler('test.log')\n",
    "ch.setLevel(logging.DEBUG)\n",
    "ch.setFormatter(CustomFormatter())\n",
    "logger.addHandler(ch)"
   ]
  },
  {
   "cell_type": "code",
   "execution_count": 5,
   "id": "630f2d9a-6fc6-4674-bab1-33661493f411",
   "metadata": {},
   "outputs": [],
   "source": [
    "logger.info('Started')\n",
    "logger.debug('sdfasdfas')\n",
    "logger.warning('aargh...!')\n",
    "logger.error('crash...!')\n",
    "logger.critical('stop...!')\n",
    "logger.info('Finished')"
   ]
  }
 ],
 "metadata": {
  "kernelspec": {
   "display_name": "Python [conda env:base] *",
   "language": "python",
   "name": "conda-base-py"
  },
  "language_info": {
   "codemirror_mode": {
    "name": "ipython",
    "version": 3
   },
   "file_extension": ".py",
   "mimetype": "text/x-python",
   "name": "python",
   "nbconvert_exporter": "python",
   "pygments_lexer": "ipython3",
   "version": "3.12.7"
  }
 },
 "nbformat": 4,
 "nbformat_minor": 5
}
