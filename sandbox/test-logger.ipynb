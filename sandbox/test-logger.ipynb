{
 "cells": [
  {
   "cell_type": "code",
   "execution_count": 1,
   "id": "b0f0cd79-90a8-4a78-9334-cb2f4d467069",
   "metadata": {},
   "outputs": [],
   "source": [
    "import logging\n",
    "import sys\n",
    "from pathlib import Path"
   ]
  },
  {
   "cell_type": "code",
   "execution_count": 2,
   "id": "26227fa2-4cee-4e35-8c2e-4e83e4d603f9",
   "metadata": {},
   "outputs": [],
   "source": [
    "class ColorFormatter(logging.Formatter):\n",
    "    COLORS = {\n",
    "        'DEBUG': '\\033[36m',     # CYAN\n",
    "        'INFO': '\\033[32m',      # GREEN\n",
    "        'WARNING': '\\033[33m',   # YELLOW\n",
    "        'ERROR': '\\033[31m',     # RED\n",
    "        'CRITICAL': '\\033[31;1m' # BOLD RED\n",
    "    }\n",
    "    RESET = '\\033[0m'\n",
    "    def format(self, record):\n",
    "        color = self.COLORS.get(record.levelname, '')\n",
    "        fmt = f\"{color}[%(levelname).3s %(asctime)s]{self.RESET} %(message)s\"\n",
    "        return logging.Formatter(fmt).format(record)\n",
    "\n",
    "def setup_logging(\n",
    "    console_level=logging.INFO,\n",
    "    file_level=logging.DEBUG,\n",
    "    log_file=None\n",
    "):\n",
    "    if hasattr(setup_logging, '_called'):\n",
    "        return  # Evita riconfigurazioni\n",
    "    setup_logging._called = True\n",
    "    root_logger = logging.getLogger()\n",
    "    root_logger.setLevel(logging.DEBUG)\n",
    "    console_handler = logging.StreamHandler(sys.stdout)\n",
    "    console_handler.setLevel(console_level)\n",
    "    console_handler.setFormatter(ColorFormatter())\n",
    "    if log_file:\n",
    "        Path(log_file).parent.mkdir(parents=True, exist_ok=True)\n",
    "        file_handler = logging.FileHandler(log_file)\n",
    "        file_handler.setLevel(file_level)\n",
    "        file_handler.setFormatter(\n",
    "            logging.Formatter(\"[%(levelname).3s %(asctime)s] %(name)s: %(message)s\")\n",
    "        )\n",
    "        root_logger.addHandler(file_handler)\n",
    "    root_logger.addHandler(console_handler)\n",
    "    logging.getLogger(\"matplotlib\").setLevel(logging.WARNING)\n",
    "    logging.getLogger(\"PIL\").setLevel(logging.INFO)"
   ]
  },
  {
   "cell_type": "code",
   "execution_count": 3,
   "id": "6987de33-83e7-4278-ac97-16ff46a9ab11",
   "metadata": {},
   "outputs": [],
   "source": [
    "setup_logging(\n",
    "    console_level=logging.DEBUG,\n",
    "    file_level=logging.DEBUG,\n",
    "    log_file=\"logs/focusstack.log\"\n",
    ")"
   ]
  },
  {
   "cell_type": "code",
   "execution_count": 4,
   "id": "630f2d9a-6fc6-4674-bab1-33661493f411",
   "metadata": {},
   "outputs": [
    {
     "name": "stdout",
     "output_type": "stream",
     "text": [
      "\u001b[32m[INF 2025-05-10 20:33:12,693]\u001b[0m Started\n",
      "\u001b[36m[DEB 2025-05-10 20:33:12,694]\u001b[0m sdfasdfas\n",
      "\u001b[33m[WAR 2025-05-10 20:33:12,694]\u001b[0m aargh...!\n",
      "\u001b[31m[ERR 2025-05-10 20:33:12,695]\u001b[0m crash...!\n",
      "\u001b[31;1m[CRI 2025-05-10 20:33:12,695]\u001b[0m stop...!\n",
      "\u001b[32m[INF 2025-05-10 20:33:12,695]\u001b[0m Finished\n"
     ]
    }
   ],
   "source": [
    "logger = logging.getLogger(__name__) \n",
    "logger.info('Started')\n",
    "logger.debug('sdfasdfas')\n",
    "logger.warning('aargh...!')\n",
    "logger.error('crash...!')\n",
    "logger.critical('stop...!')\n",
    "logger.info('Finished')"
   ]
  }
 ],
 "metadata": {
  "kernelspec": {
   "display_name": "Python [conda env:base] *",
   "language": "python",
   "name": "conda-base-py"
  },
  "language_info": {
   "codemirror_mode": {
    "name": "ipython",
    "version": 3
   },
   "file_extension": ".py",
   "mimetype": "text/x-python",
   "name": "python",
   "nbconvert_exporter": "python",
   "pygments_lexer": "ipython3",
   "version": "3.12.7"
  }
 },
 "nbformat": 4,
 "nbformat_minor": 5
}
