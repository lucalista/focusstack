{
 "cells": [
  {
   "cell_type": "markdown",
   "id": "57d3e47e-61e4-4376-bb52-3e436c6715e8",
   "metadata": {},
   "source": [
    "# Writing TIFF multilayer file readable from PhotoShop\n",
    "\n",
    "There is no straightforward way to write a multilayer TIFF file readable from PhotoShop.\n",
    "So far, the attempts in the following code have been unsuccessful.\n",
    "* [This is a short descriotion of PS TIFF format](https://www.amyspark.me/blog/posts/2021/11/14/reading-and-writing-tiff-psds.html)\n",
    "* [This is a thread with attempts to write a PS-readable TIFF](https://github.com/imageio/imageio/issues/708)\n",
    "\n",
    "The following example works:\n",
    "* [Layered TIFF with psdtags](https://github.com/cgohlke/psdtags/blob/master/examples/layered_tiff.py)"
   ]
  },
  {
   "cell_type": "code",
   "execution_count": 1,
   "id": "a4bbbff9-24de-4b82-8ae4-4f2a9c999276",
   "metadata": {},
   "outputs": [],
   "source": [
    "import tifffile\n",
    "import os"
   ]
  },
  {
   "cell_type": "code",
   "execution_count": 3,
   "id": "5cbaf038-0653-4768-8e0e-cf61cdbfe3ca",
   "metadata": {
    "editable": true,
    "slideshow": {
     "slide_type": ""
    },
    "tags": []
   },
   "outputs": [],
   "source": [
    "path = \"../test/img-tif\"\n",
    "in_paths = [(path + \"/000{:d}.tif\".format(i)) for i in range(5)]\n",
    "images = [tifffile.imread(p) for p in in_paths]\n",
    "out_dir = \"img-test\"\n",
    "if not os.path.exists(out_dir): os.makedirs(out_dir)\n",
    "out_path = out_dir + \"/multi.tif\"\n",
    "data_block = bytes('Adobe Photoshop Document Data Block', 'ascii') + b'\\x00'\n",
    "bim = bytes('8BIM', 'ascii')\n",
    "layer = bytes('Layr', 'ascii')\n",
    "with tifffile.TiffWriter(out_path) as tiff:\n",
    "    for i, img in enumerate(images):\n",
    "        img_bytes = img.tobytes()\n",
    "        img_len = len(img_bytes)\n",
    "        img_len_bytes = bytes(str(img_len), 'ascii')\n",
    "        all_bytes = data_block + bim + layer + img_len_bytes\n",
    "        byte_length = len(all_bytes) - len(data_block)\n",
    "        bytes_bytes = bytes(byte_length)\n",
    "        allll = all_bytes + bytes_bytes\n",
    "        metad = { \"37724\": str(allll), 'LayerName': f'Layer_{i+1}',\n",
    "                'DocumentName': 'Multilayer TIFF',\n",
    "                'Software': 'Python tifffile' }\n",
    "        tiff.write(img, photometric='rgb',\n",
    "            contiguous=False, #planarconfig='separate',\n",
    "            compression='none', #subfiletype=1 if i > 0 else 0,\n",
    "            predictor=False,\n",
    "            metadata=metad)"
   ]
  }
 ],
 "metadata": {
  "kernelspec": {
   "display_name": "Python [conda env:base] *",
   "language": "python",
   "name": "conda-base-py"
  },
  "language_info": {
   "codemirror_mode": {
    "name": "ipython",
    "version": 3
   },
   "file_extension": ".py",
   "mimetype": "text/x-python",
   "name": "python",
   "nbconvert_exporter": "python",
   "pygments_lexer": "ipython3",
   "version": "3.12.7"
  }
 },
 "nbformat": 4,
 "nbformat_minor": 5
}
