{
 "cells": [
  {
   "cell_type": "markdown",
   "id": "57d3e47e-61e4-4376-bb52-3e436c6715e8",
   "metadata": {},
   "source": [
    "# Writing TIFF multilayer file readable from PhotoShop\n",
    "\n",
    "There is no straightforward way to write a multilayer TIFF file readable from PhotoShop.\n",
    "So far, the attempts in the following code have been unsuccessful.\n",
    "* [This is a short descriotion of PS TIFF format](https://www.amyspark.me/blog/posts/2021/11/14/reading-and-writing-tiff-psds.html)\n",
    "* [This is a thread with attempts to write a PS-readable TIFF](https://github.com/imageio/imageio/issues/708)\n",
    "\n",
    "The following example works:\n",
    "* [Layered TIFF with psdtags](https://github.com/cgohlke/psdtags/blob/master/examples/layered_tiff.py)"
   ]
  },
  {
   "cell_type": "code",
   "execution_count": 2,
   "id": "a4bbbff9-24de-4b82-8ae4-4f2a9c999276",
   "metadata": {},
   "outputs": [],
   "source": [
    "import tifffile\n",
    "import numpy as np"
   ]
  },
  {
   "cell_type": "code",
   "execution_count": 3,
   "id": "3395a425-4078-4089-81dd-9a9c0459aaa9",
   "metadata": {},
   "outputs": [],
   "source": [
    "import imagecodecs\n",
    "import numpy\n",
    "import tifffile\n",
    "from psdtags import (\n",
    "    PsdBlendMode,\n",
    "    PsdChannel,\n",
    "    PsdChannelId,\n",
    "    PsdClippingType,\n",
    "    PsdColorSpaceType,\n",
    "    PsdCompressionType,\n",
    "    PsdEmpty,\n",
    "    PsdFilterMask,\n",
    "    PsdFormat,\n",
    "    PsdKey,\n",
    "    PsdLayer,\n",
    "    PsdLayerFlag,\n",
    "    PsdLayerMask,\n",
    "    PsdLayers,\n",
    "    PsdRectangle,\n",
    "    PsdString,\n",
    "    PsdUserMask,\n",
    "    TiffImageSourceData,\n",
    "    __version__,\n",
    "    overlay,\n",
    ")\n",
    "\n",
    "path = \"../test/img-tif\"\n",
    "in_paths = [(path + \"/000{:d}.tif\".format(i)) for i in range(5)] + [\"../test/img-tif-stack/0001_pyr.tif\"]\n",
    "images = [tifffile.imread(p) for p in in_paths]\n",
    "\n",
    "# canvas height and width\n",
    "shape = images[0].shape[:2]\n",
    "transp = np.full_like(images[0][..., 0], 65535)\n",
    "transp_1 = np.expand_dims(transp, axis=-1)\n",
    "layers = [PsdLayer(\n",
    "                name='Layer {}'.format(i),\n",
    "                rectangle=PsdRectangle(0, 0, *shape),\n",
    "                channels=[\n",
    "                    PsdChannel(\n",
    "                        channelid=PsdChannelId.TRANSPARENCY_MASK,\n",
    "                        compression=PsdCompressionType.RAW,\n",
    "                        data=transp,\n",
    "                    ),\n",
    "                    PsdChannel(\n",
    "                        channelid=PsdChannelId.CHANNEL0,\n",
    "                        compression=PsdCompressionType.RAW,\n",
    "                        data=image[..., 0],\n",
    "                    ),\n",
    "                    PsdChannel(\n",
    "                        channelid=PsdChannelId.CHANNEL1,\n",
    "                        compression=PsdCompressionType.RAW,\n",
    "                        data=image[..., 1],\n",
    "                    ),\n",
    "                    PsdChannel(\n",
    "                        channelid=PsdChannelId.CHANNEL2,\n",
    "                        compression=PsdCompressionType.RAW,\n",
    "                        data=image[..., 2],\n",
    "                    ),\n",
    "                ],\n",
    "                mask=PsdLayerMask(),\n",
    "                opacity=255,\n",
    "                blendmode=PsdBlendMode.NORMAL,\n",
    "                blending_ranges=(),\n",
    "                clipping=PsdClippingType.BASE,\n",
    "                flags=PsdLayerFlag.PHOTOSHOP5,\n",
    "                info=[\n",
    "                    PsdString(PsdKey.UNICODE_LAYER_NAME, 'layer {}'.format(i)),\n",
    "                ],\n",
    "            ) for i, image in enumerate (images)]"
   ]
  },
  {
   "cell_type": "code",
   "execution_count": 4,
   "id": "9b898f39-c69b-4439-a9fc-616ea7e2a9a7",
   "metadata": {},
   "outputs": [],
   "source": [
    "# create the ImageSourceData structure for the layered TIFF\n",
    "image_source_data = TiffImageSourceData(\n",
    "    name='Layered TIFF',\n",
    "    psdformat=PsdFormat.LE32BIT,\n",
    "    layers=PsdLayers(\n",
    "        key=PsdKey.LAYER,\n",
    "        has_transparency=False,\n",
    "        layers=layers,\n",
    "    ),\n",
    "    usermask=PsdUserMask(\n",
    "        colorspace=PsdColorSpaceType.RGB,\n",
    "        components=(65535, 0, 0, 0),\n",
    "        opacity=50,\n",
    "    ),\n",
    "    info=[\n",
    "        PsdEmpty(PsdKey.PATTERNS),\n",
    "        PsdFilterMask(\n",
    "            colorspace=PsdColorSpaceType.RGB,\n",
    "            components=(65535, 0, 0, 0),\n",
    "            opacity=50,\n",
    "        ),\n",
    "    ],\n",
    ")"
   ]
  },
  {
   "cell_type": "code",
   "execution_count": 5,
   "id": "74eb0bec-7b4d-4283-a343-aa27a0a88bf6",
   "metadata": {},
   "outputs": [],
   "source": [
    "composite = overlay(*((np.concatenate((image, transp_1), axis=-1), (0, 0)) for image in images),\n",
    "    shape=shape,\n",
    ")"
   ]
  },
  {
   "cell_type": "code",
   "execution_count": 6,
   "id": "5631e6c0-bb4b-4e2a-9a37-c5e24adfdab3",
   "metadata": {},
   "outputs": [],
   "source": [
    "# write a layered TIFF file\n",
    "tifffile.imwrite(\n",
    "    'img-test/layered.tif',\n",
    "    # write composite as main TIFF image, accessible to regular TIF readers\n",
    "    composite,\n",
    "    photometric='rgb',\n",
    "    compression='adobe_deflate',\n",
    "    # 72 dpi resolution\n",
    "    resolution=((720000, 10000), (720000, 10000)),\n",
    "    resolutionunit='inch',\n",
    "    # do not write tifffile specific metadata\n",
    "    metadata=None,\n",
    "    # write layers and sRGB profile as extra tags\n",
    "    extratags=[\n",
    "        # ImageSourceData tag; use multiple threads to compress channels\n",
    "        image_source_data.tifftag(maxworkers=4),\n",
    "        # InterColorProfile tag\n",
    "        (34675, 7, None, imagecodecs.cms_profile('srgb'), True),\n",
    "    ],\n",
    ")"
   ]
  },
  {
   "cell_type": "code",
   "execution_count": 7,
   "id": "258c2786-4145-47da-8223-0d1c02db42c2",
   "metadata": {},
   "outputs": [
    {
     "ename": "ValueError",
     "evalue": "cannot reshape array of size 5200000 into shape (1300,2000)",
     "output_type": "error",
     "traceback": [
      "\u001b[0;31m---------------------------------------------------------------------------\u001b[0m",
      "\u001b[0;31mValueError\u001b[0m                                Traceback (most recent call last)",
      "Cell \u001b[0;32mIn[7], line 1\u001b[0m\n\u001b[0;32m----> 1\u001b[0m isd \u001b[38;5;241m=\u001b[39m TiffImageSourceData\u001b[38;5;241m.\u001b[39mfromtiff(\u001b[38;5;124m'\u001b[39m\u001b[38;5;124mimg-test/layered.tif\u001b[39m\u001b[38;5;124m'\u001b[39m)\n\u001b[1;32m      2\u001b[0m \u001b[38;5;28mprint\u001b[39m(isd)\n\u001b[1;32m      3\u001b[0m \u001b[38;5;28mprint\u001b[39m(\u001b[38;5;124mf\u001b[39m\u001b[38;5;124m'\u001b[39m\u001b[38;5;124mpsdtags \u001b[39m\u001b[38;5;132;01m{\u001b[39;00m__version__\u001b[38;5;132;01m}\u001b[39;00m\u001b[38;5;124m'\u001b[39m)\n",
      "File \u001b[0;32m/opt/anaconda3/lib/python3.12/site-packages/psdtags/psdtags.py:3266\u001b[0m, in \u001b[0;36mTiffImageSourceData.fromtiff\u001b[0;34m(cls, filename, pageindex, unknown)\u001b[0m\n\u001b[1;32m   3264\u001b[0m \u001b[38;5;28;01mif\u001b[39;00m data \u001b[38;5;129;01mis\u001b[39;00m \u001b[38;5;28;01mNone\u001b[39;00m:\n\u001b[1;32m   3265\u001b[0m     \u001b[38;5;28;01mraise\u001b[39;00m \u001b[38;5;167;01mValueError\u001b[39;00m(\u001b[38;5;124m'\u001b[39m\u001b[38;5;124mTIFF file contains no ImageSourceData tag\u001b[39m\u001b[38;5;124m'\u001b[39m)\n\u001b[0;32m-> 3266\u001b[0m \u001b[38;5;28;01mreturn\u001b[39;00m \u001b[38;5;28mcls\u001b[39m\u001b[38;5;241m.\u001b[39mfrombytes(\n\u001b[1;32m   3267\u001b[0m     data, name\u001b[38;5;241m=\u001b[39mos\u001b[38;5;241m.\u001b[39mpath\u001b[38;5;241m.\u001b[39msplit(filename)[\u001b[38;5;241m-\u001b[39m\u001b[38;5;241m1\u001b[39m], unknown\u001b[38;5;241m=\u001b[39munknown\n\u001b[1;32m   3268\u001b[0m )\n",
      "File \u001b[0;32m/opt/anaconda3/lib/python3.12/site-packages/psdtags/psdtags.py:3251\u001b[0m, in \u001b[0;36mTiffImageSourceData.frombytes\u001b[0;34m(cls, data, name, unknown)\u001b[0m\n\u001b[1;32m   3249\u001b[0m \u001b[38;5;250m\u001b[39m\u001b[38;5;124;03m\"\"\"Return instance from bytes.\"\"\"\u001b[39;00m\n\u001b[1;32m   3250\u001b[0m \u001b[38;5;28;01mwith\u001b[39;00m io\u001b[38;5;241m.\u001b[39mBytesIO(data) \u001b[38;5;28;01mas\u001b[39;00m fh:\n\u001b[0;32m-> 3251\u001b[0m     \u001b[38;5;28mself\u001b[39m \u001b[38;5;241m=\u001b[39m \u001b[38;5;28mcls\u001b[39m\u001b[38;5;241m.\u001b[39mread(fh, name\u001b[38;5;241m=\u001b[39mname, unknown\u001b[38;5;241m=\u001b[39munknown)\n\u001b[1;32m   3252\u001b[0m \u001b[38;5;28;01mreturn\u001b[39;00m \u001b[38;5;28mself\u001b[39m\n",
      "File \u001b[0;32m/opt/anaconda3/lib/python3.12/site-packages/psdtags/psdtags.py:3211\u001b[0m, in \u001b[0;36mTiffImageSourceData.read\u001b[0;34m(cls, fh, name, unknown)\u001b[0m\n\u001b[1;32m   3209\u001b[0m     info\u001b[38;5;241m.\u001b[39mappend(PsdEmpty(key))\n\u001b[1;32m   3210\u001b[0m \u001b[38;5;28;01melif\u001b[39;00m key \u001b[38;5;129;01min\u001b[39;00m PsdLayers\u001b[38;5;241m.\u001b[39mTYPES \u001b[38;5;129;01mand\u001b[39;00m layers \u001b[38;5;129;01mis\u001b[39;00m \u001b[38;5;28;01mNone\u001b[39;00m:\n\u001b[0;32m-> 3211\u001b[0m     layers \u001b[38;5;241m=\u001b[39m PsdLayers\u001b[38;5;241m.\u001b[39mread(\n\u001b[1;32m   3212\u001b[0m         fh, psdformat, key, length\u001b[38;5;241m=\u001b[39msize, unknown\u001b[38;5;241m=\u001b[39munknown\n\u001b[1;32m   3213\u001b[0m     )\n\u001b[1;32m   3214\u001b[0m \u001b[38;5;28;01melif\u001b[39;00m key \u001b[38;5;241m==\u001b[39m PsdKey\u001b[38;5;241m.\u001b[39mUSER_MASK \u001b[38;5;129;01mand\u001b[39;00m usermask \u001b[38;5;129;01mis\u001b[39;00m \u001b[38;5;28;01mNone\u001b[39;00m:\n\u001b[1;32m   3215\u001b[0m     usermask \u001b[38;5;241m=\u001b[39m PsdUserMask\u001b[38;5;241m.\u001b[39mread(fh, psdformat, key, length\u001b[38;5;241m=\u001b[39msize)\n",
      "File \u001b[0;32m/opt/anaconda3/lib/python3.12/site-packages/psdtags/psdtags.py:1100\u001b[0m, in \u001b[0;36mPsdLayers.read\u001b[0;34m(cls, fh, psdformat, key, length, unknown)\u001b[0m\n\u001b[1;32m   1098\u001b[0m         \u001b[38;5;28;01melse\u001b[39;00m:\n\u001b[1;32m   1099\u001b[0m             shape \u001b[38;5;241m=\u001b[39m layer\u001b[38;5;241m.\u001b[39mshape\n\u001b[0;32m-> 1100\u001b[0m         channel\u001b[38;5;241m.\u001b[39mread_image(fh, psdformat, shape, dtype)\n\u001b[1;32m   1102\u001b[0m \u001b[38;5;28;01mreturn\u001b[39;00m \u001b[38;5;28mcls\u001b[39m(\n\u001b[1;32m   1103\u001b[0m     key\u001b[38;5;241m=\u001b[39mkey,\n\u001b[1;32m   1104\u001b[0m     layers\u001b[38;5;241m=\u001b[39mlayers,\n\u001b[1;32m   1105\u001b[0m     has_transparency\u001b[38;5;241m=\u001b[39mhas_transparency,\n\u001b[1;32m   1106\u001b[0m )\n",
      "File \u001b[0;32m/opt/anaconda3/lib/python3.12/site-packages/psdtags/psdtags.py:1528\u001b[0m, in \u001b[0;36mPsdChannel.read_image\u001b[0;34m(self, fh, psdformat, shape, dtype)\u001b[0m\n\u001b[1;32m   1525\u001b[0m data \u001b[38;5;241m=\u001b[39m fh\u001b[38;5;241m.\u001b[39mread(\u001b[38;5;28mself\u001b[39m\u001b[38;5;241m.\u001b[39m_data_length \u001b[38;5;241m-\u001b[39m \u001b[38;5;241m2\u001b[39m)\n\u001b[1;32m   1526\u001b[0m rlecountfmt \u001b[38;5;241m=\u001b[39m psdformat\u001b[38;5;241m.\u001b[39mbyteorder \u001b[38;5;241m+\u001b[39m (\u001b[38;5;124m'\u001b[39m\u001b[38;5;124mI\u001b[39m\u001b[38;5;124m'\u001b[39m \u001b[38;5;28;01mif\u001b[39;00m psdformat\u001b[38;5;241m.\u001b[39misb64 \u001b[38;5;28;01melse\u001b[39;00m \u001b[38;5;124m'\u001b[39m\u001b[38;5;124mH\u001b[39m\u001b[38;5;124m'\u001b[39m)\n\u001b[0;32m-> 1528\u001b[0m \u001b[38;5;28mself\u001b[39m\u001b[38;5;241m.\u001b[39mdata \u001b[38;5;241m=\u001b[39m decompress(\n\u001b[1;32m   1529\u001b[0m     data, \u001b[38;5;28mself\u001b[39m\u001b[38;5;241m.\u001b[39mcompression, shape, dtype, rlecountfmt\n\u001b[1;32m   1530\u001b[0m )\n",
      "File \u001b[0;32m/opt/anaconda3/lib/python3.12/site-packages/psdtags/psdtags.py:3784\u001b[0m, in \u001b[0;36mdecompress\u001b[0;34m(data, compression, shape, dtype, rlecountfmt)\u001b[0m\n\u001b[1;32m   3781\u001b[0m     \u001b[38;5;28;01mreturn\u001b[39;00m numpy\u001b[38;5;241m.\u001b[39mzeros(shape, dtype\u001b[38;5;241m=\u001b[39mdtype)\n\u001b[1;32m   3783\u001b[0m \u001b[38;5;28;01mif\u001b[39;00m compression \u001b[38;5;241m==\u001b[39m PsdCompressionType\u001b[38;5;241m.\u001b[39mRAW:\n\u001b[0;32m-> 3784\u001b[0m     \u001b[38;5;28;01mreturn\u001b[39;00m numpy\u001b[38;5;241m.\u001b[39mfrombuffer(data, dtype\u001b[38;5;241m=\u001b[39mdtype)\u001b[38;5;241m.\u001b[39mreshape(shape)\u001b[38;5;241m.\u001b[39mcopy()\n\u001b[1;32m   3786\u001b[0m \u001b[38;5;28;01mif\u001b[39;00m compression \u001b[38;5;241m==\u001b[39m PsdCompressionType\u001b[38;5;241m.\u001b[39mZIP:\n\u001b[1;32m   3787\u001b[0m     \u001b[38;5;66;03m# this fails to decompress zlib streams written by Krita\u001b[39;00m\n\u001b[1;32m   3788\u001b[0m     data \u001b[38;5;241m=\u001b[39m zlib\u001b[38;5;241m.\u001b[39mdecompress(data, bufsize\u001b[38;5;241m=\u001b[39muncompressed_size)\n",
      "\u001b[0;31mValueError\u001b[0m: cannot reshape array of size 5200000 into shape (1300,2000)"
     ]
    }
   ],
   "source": [
    "isd = TiffImageSourceData.fromtiff('img-test/layered.tif')\n",
    "print(isd)\n",
    "print(f'psdtags {__version__}')"
   ]
  },
  {
   "cell_type": "code",
   "execution_count": null,
   "id": "ad4d54c0-e494-4428-8a54-693bc7842591",
   "metadata": {},
   "outputs": [],
   "source": [
    "# plot the layer and composite images in the TIFF file\n",
    "for layer in isd.layers:\n",
    "    tifffile.imshow(layer.asarray(), title=layer.name)\n",
    "tifffile.imshow(tifffile.imread('img-test/layered.tif'), title='Composite', show=True)"
   ]
  },
  {
   "cell_type": "code",
   "execution_count": null,
   "id": "41d219c8-7926-4bab-b440-db04da7208e8",
   "metadata": {},
   "outputs": [],
   "source": []
  }
 ],
 "metadata": {
  "kernelspec": {
   "display_name": "Python [conda env:base] *",
   "language": "python",
   "name": "conda-base-py"
  },
  "language_info": {
   "codemirror_mode": {
    "name": "ipython",
    "version": 3
   },
   "file_extension": ".py",
   "mimetype": "text/x-python",
   "name": "python",
   "nbconvert_exporter": "python",
   "pygments_lexer": "ipython3",
   "version": "3.12.7"
  }
 },
 "nbformat": 4,
 "nbformat_minor": 5
}
