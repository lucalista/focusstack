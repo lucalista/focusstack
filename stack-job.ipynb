{
 "cells": [
  {
   "cell_type": "markdown",
   "id": "8f55d468-3b6d-4da0-85a3-8b352e091ad3",
   "metadata": {},
   "source": [
    "# Focus stacking with image bunches\n",
    "\n",
    "Example of focus stacking with automatic alignment and luminosity balance, and partial stacking of image bunches before the final stacking."
   ]
  },
  {
   "cell_type": "code",
   "execution_count": null,
   "id": "d3c9e25f-0b64-4aae-b43c-1384fb37c496",
   "metadata": {
    "tags": []
   },
   "outputs": [],
   "source": [
    "from focus_stack import *"
   ]
  },
  {
   "cell_type": "code",
   "execution_count": null,
   "id": "9268d1fe-c97d-489b-bd51-a381fed2203f",
   "metadata": {
    "tags": []
   },
   "outputs": [],
   "source": [
    "def make_job(x, y):\n",
    "    job = StackJob(\"job\", x + y, input_path=\"src\")\n",
    "    job.add_action(AlignLayers(\"align\", border_mode='BORDER_REPLICATE'))\n",
    "    job.add_action(BalanceLayersLumi(\"balance\", i_min=150, i_max=65385, mask_size=0))\n",
    "    job.add_action(FocusStackBunch(\"bunches\", PyramidStack(), exif_path=\"src\", frames=17, overlap=2, denoise=0))\n",
    "    job.add_action(FocusStack(\"stack\", PyramidStack(), exif_path=\"src\", postfix='_pyr', denoise=0))\n",
    "    return job"
   ]
  },
  {
   "cell_type": "code",
   "execution_count": null,
   "id": "e8dbd28e-0da9-4668-9d92-f921676a26be",
   "metadata": {
    "tags": []
   },
   "outputs": [],
   "source": [
    "for x in [\"E:/Focus stacking/2025-01-11 - Emiptera/\"]:\n",
    "    for y in ['A', 'B']:\n",
    "        make_job(x, y).run()\n"
   ]
  },
  {
   "cell_type": "code",
   "execution_count": null,
   "id": "373b9d17-86a7-497b-84cc-250dd9ca02bb",
   "metadata": {},
   "outputs": [],
   "source": []
  }
 ],
 "metadata": {
  "kernelspec": {
   "display_name": "Python [conda env:base] *",
   "language": "python",
   "name": "conda-base-py"
  },
  "language_info": {
   "codemirror_mode": {
    "name": "ipython",
    "version": 3
   },
   "file_extension": ".py",
   "mimetype": "text/x-python",
   "name": "python",
   "nbconvert_exporter": "python",
   "pygments_lexer": "ipython3",
   "version": "3.11.5"
  }
 },
 "nbformat": 4,
 "nbformat_minor": 5
}
