{
 "cells": [
  {
   "cell_type": "markdown",
   "id": "8f55d468-3b6d-4da0-85a3-8b352e091ad3",
   "metadata": {},
   "source": [
    "# Focus stacking with image batches\n",
    "\n",
    "based on [Laplacian pyramids method](https://github.com/sjawhar/focus-stacking).\n",
    "\n",
    "**Resources:**\n",
    "\n",
    "* [Pyramid Methods in Image Processing](https://www.researchgate.net/publication/246727904_Pyramid_Methods_in_Image_Processing), E. H. Adelson, C. H. Anderson,  J. R. Bergen, P. J. Burt, J. M. Ogden, RCA Engineer, 29-6, Nov/Dec 1984\n",
    "Pyramid methods in image processing\n",
    "* [A Multi-focus Image Fusion Method Based on Laplacian Pyramid](http://www.jcomputers.us/vol6/jcp0612-07.pdf), Wencheng Wang, Faliang Chang, Journal of Computers 6 (12), 2559, December 2011\n",
    "* [Original core implementation on GitHub](https://github.com/bznick98/Focus_Stacking) by Zongnan Bao\n",
    "* [Align with OpenCV](https://magamig.github.io/posts/accurate-image-alignment-and-registration-using-opencv/)\n",
    "* [Balancing contrast and brightness between stitched images](https://itecnote.com/tecnote/opencv-balancing-contrast-and-brightness-between-stitched-images/)"
   ]
  },
  {
   "cell_type": "code",
   "execution_count": 1,
   "id": "d3c9e25f-0b64-4aae-b43c-1384fb37c496",
   "metadata": {
    "tags": []
   },
   "outputs": [],
   "source": [
    "from focus_stack import *"
   ]
  },
  {
   "cell_type": "code",
   "execution_count": 2,
   "id": "9268d1fe-c97d-489b-bd51-a381fed2203f",
   "metadata": {
    "tags": []
   },
   "outputs": [],
   "source": [
    "job = StackJob(\"job\", \"E:/Focus stacking/2024-03-17 - Baltic Diptera/E/\")\n",
    "#job.add_action(AlignLayers(job.working_directory, \"align\", input_path=\"Immagini modificate\"))\n",
    "#job.add_action(BalanceLayersLumi(job.working_directory, \"balance\", input_path=\"align\", mask_radius=0.8, i_min=10, i_max=255))\n",
    "job.add_action(FocusStackBunch(job.working_directory, \"batches\", PyramidStack(), input_path=\"balance\", exif_dir=\"Immagini modificate\", frames=10, overlap=2, denoise=0.8))\n",
    "job.add_action(FocusStack(job.working_directory, \"stack\", PyramidStack(), input_path=\"batches\", exif_dir=\"Immagini modificate\", postfix='_stack_pyr', denoise=0.8))"
   ]
  },
  {
   "cell_type": "code",
   "execution_count": 3,
   "id": "ee5f05ef-1081-4e65-8081-d3c00cb0ee97",
   "metadata": {
    "tags": []
   },
   "outputs": [
    {
     "name": "stdout",
     "output_type": "stream",
     "text": [
      "\u001b[1m\u001b[34mrunning batches\u001b[0m\n"
     ]
    },
    {
     "data": {
      "application/vnd.jupyter.widget-view+json": {
       "model_id": "b91ccd280797433b9bf23ba64635390d",
       "version_major": 2,
       "version_minor": 0
      },
      "text/plain": [
       "batches:   0%|          | 0/11 [00:00<?, ?it/s]"
      ]
     },
     "metadata": {},
     "output_type": "display_data"
    },
    {
     "name": "stdout",
     "output_type": "stream",
     "text": [
      "\u001b[1m\u001b[32mbatches: \u001b[0m\u001b[32melapsed time: 00:04:17.91s                    \u001b[0m\n",
      "\u001b[32mbatches completed                    \u001b[0m\n",
      "\u001b[1m\u001b[34mrunning stack\u001b[0m\n",
      "\u001b[34m11 files in folder: 'E:/Focus stacking/2024-03-17 - Baltic Diptera/E/batches'\u001b[0m\n",
      "\u001b[1m\u001b[32mstack: \u001b[0m\u001b[32melapsed time: 00:00:26.96s                    \u001b[0m\n",
      "\u001b[32mstack completed                    \u001b[0m\n",
      "\u001b[1m\u001b[32mjob: \u001b[0m\u001b[32melapsed time: 00:04:44.87s                    \u001b[0m\n",
      "\u001b[32mjob completed                    \u001b[0m\n"
     ]
    }
   ],
   "source": [
    "job.run()"
   ]
  },
  {
   "cell_type": "code",
   "execution_count": null,
   "id": "e3534571-d30f-48e7-9e53-301090a730f3",
   "metadata": {},
   "outputs": [],
   "source": []
  }
 ],
 "metadata": {
  "kernelspec": {
   "display_name": "Python 3 (ipykernel)",
   "language": "python",
   "name": "python3"
  },
  "language_info": {
   "codemirror_mode": {
    "name": "ipython",
    "version": 3
   },
   "file_extension": ".py",
   "mimetype": "text/x-python",
   "name": "python",
   "nbconvert_exporter": "python",
   "pygments_lexer": "ipython3",
   "version": "3.11.5"
  }
 },
 "nbformat": 4,
 "nbformat_minor": 5
}
