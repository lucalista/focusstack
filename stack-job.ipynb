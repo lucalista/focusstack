{
 "cells": [
  {
   "cell_type": "code",
   "execution_count": 1,
   "id": "d3c9e25f-0b64-4aae-b43c-1384fb37c496",
   "metadata": {
    "tags": []
   },
   "outputs": [],
   "source": [
    "from focus_stack import Job, ActionList, file_folder\n",
    "from termcolor import colored, cprint\n",
    "import focus_stack as stk\n",
    "import os\n",
    "import time"
   ]
  },
  {
   "cell_type": "code",
   "execution_count": 2,
   "id": "7959fb68-6e4e-4ef1-885d-29c799524539",
   "metadata": {
    "tags": []
   },
   "outputs": [],
   "source": [
    "class DirJob(Job):\n",
    "    def __init__(self, name, wdir):\n",
    "        assert  os.path.exists(wdir), 'Path does not exist: ' + wdir\n",
    "        self.wdir = wdir\n",
    "        Job.__init__(self, name)"
   ]
  },
  {
   "cell_type": "code",
   "execution_count": 3,
   "id": "65fd0521-edf7-47d5-8a08-e7dbf3b01518",
   "metadata": {
    "tags": []
   },
   "outputs": [],
   "source": [
    "class FramesRefActions(ActionList):\n",
    "    def __init__(self, name, wdir, input_path, output_path='', ref_idx=-1, step_align=True):\n",
    "        assert  os.path.exists(wdir), 'Path does not exist: ' + wdir\n",
    "        self.wdir = wdir\n",
    "        if output_path=='': output_path = name\n",
    "        self.input_dir = wdir + input_path\n",
    "        self.output_dir = wdir + output_path\n",
    "        if not os.path.exists( self.output_dir): os.makedirs( self.output_dir)\n",
    "        self.fnames = file_folder(self.input_dir)\n",
    "        ActionList.__init__(self, name, len(self.fnames))\n",
    "        self.ref_idx = ref_idx\n",
    "        if ref_idx == -1: self.ref_idx = len(self.fnames) // 2\n",
    "        self.step_align = step_align\n",
    "    def run_step(self):\n",
    "        cprint(\"action: {} \".format(self.fnames[self.count - 1]), \"blue\", end='\\r')\n",
    "        if self.count == 1:\n",
    "            self.__idx = self.ref_idx\n",
    "            self.__ref_idx = self.ref_idx\n",
    "            self.__idx_step = +1\n",
    "        self.run_frame(self.__idx, self.__ref_idx)\n",
    "        ll = len(self.fnames)\n",
    "        if(self.__idx < ll):\n",
    "            if self.step_align: self.__ref_idx = self.__idx\n",
    "            self.__idx += self.__idx_step\n",
    "        if(self.__idx == ll):\n",
    "            self.__idx = self.ref_idx - 1\n",
    "            if self.step_align: self.__ref_idx = self.ref_idx\n",
    "            self.__idx_step = -1"
   ]
  },
  {
   "cell_type": "code",
   "execution_count": 4,
   "id": "055fb73a-a891-4a26-87a3-1047d1c7736a",
   "metadata": {
    "tags": []
   },
   "outputs": [],
   "source": [
    "class AlignLayers(FramesRefActions):\n",
    "    ALIGN_HOMOGRAPHY = \"homography\"\n",
    "    ALIGN_RIGID = \"rigid\"\n",
    "    def __init__(self, name, wdir, input_path, output_path='', ref_idx=-1, step_align=True, detector_method='SIFT', descriptor_method='SIFT', match_method='KNN', flann_idx_kdtree=0, match_threshold=0.7, method=ALIGN_HOMOGRAPHY, plot=False):\n",
    "        FramesRefActions.__init__(self, name, wdir, input_path, output_path, ref_idx, step_align)\n",
    "        self.detector_method = detector_method\n",
    "        self.descriptor_method = descriptor_method\n",
    "        self.match_method = match_method\n",
    "        self.flann_idx_kdtree = flann_idx_kdtree\n",
    "        self.match_threshold = match_threshold\n",
    "        self.method = method\n",
    "        self.plot = plot\n",
    "    def run_frame(self, idx, ref_idx):\n",
    "        print(\"frame: {}, index: {}, reference: {}, align file: {}                    \".format(self.count, idx, ref_idx, self.fnames[idx]), end='\\r')\n",
    "        ref_dir = self.output_dir if self.step_align else self.input_dir\n",
    "        stk.img_align(self.fnames[ref_idx], self.fnames[idx], ref_dir, self.input_dir, self.output_dir, self.detector_method, self.descriptor_method, self.match_method, self.flann_idx_kdtree, self.match_threshold, self.method, self.plot, verbose=False)\n",
    "        "
   ]
  },
  {
   "cell_type": "code",
   "execution_count": 5,
   "id": "31fa6b77-9c37-4f1e-bec3-fd12e26d659b",
   "metadata": {
    "tags": []
   },
   "outputs": [],
   "source": [
    "base_path = \"E:/Focus stacking/2024-03-17 - Baltic Diptera/A/\""
   ]
  },
  {
   "cell_type": "code",
   "execution_count": 6,
   "id": "bba628b2-afa2-4741-9004-68a5c82ae02f",
   "metadata": {
    "tags": []
   },
   "outputs": [],
   "source": [
    "job = DirJob(\"job\", base_path)"
   ]
  },
  {
   "cell_type": "code",
   "execution_count": 7,
   "id": "866e59ce-855a-4340-abd8-62d9c3b6d908",
   "metadata": {
    "tags": []
   },
   "outputs": [
    {
     "name": "stdout",
     "output_type": "stream",
     "text": [
      "Folder: 'E:/Focus stacking/2024-03-17 - Baltic Diptera/A/Immagini modificate'\n",
      "- 76 files: _MG_6301.jpg, _MG_6302.jpg, _MG_6303.jpg, _MG_6304.jpg, _MG_6305.jpg, _MG_6306.jpg, _MG_6307.jpg, _MG_6308.jpg, _MG_6309.jpg, _MG_6310.jpg, _MG_6311.jpg, _MG_6312.jpg, _MG_6313.jpg, _MG_6314.jpg, _MG_6315.jpg, _MG_6316.jpg, _MG_6317.jpg, _MG_6318.jpg, _MG_6319.jpg, _MG_6320.jpg, _MG_6321.jpg, _MG_6322.jpg, _MG_6323.jpg, _MG_6324.jpg, _MG_6325.jpg, _MG_6326.jpg, _MG_6327.jpg, _MG_6328.jpg, _MG_6331.jpg, _MG_6332.jpg, _MG_6333.jpg, _MG_6334.jpg, _MG_6335.jpg, _MG_6336.jpg, _MG_6337.jpg, _MG_6338.jpg, _MG_6339.jpg, _MG_6340.jpg, _MG_6341.jpg, _MG_6342.jpg, _MG_6343.jpg, _MG_6344.jpg, _MG_6345.jpg, _MG_6346.jpg, _MG_6347.jpg, _MG_6350.jpg, _MG_6351.jpg, _MG_6352.jpg, _MG_6353.jpg, _MG_6354.jpg, _MG_6355.jpg, _MG_6356.jpg, _MG_6357.jpg, _MG_6358.jpg, _MG_6359.jpg, _MG_6360.jpg, _MG_6361.jpg, _MG_6362.jpg, _MG_6363.jpg, _MG_6364.jpg, _MG_6365.jpg, _MG_6366.jpg, _MG_6367.jpg, _MG_6368.jpg, _MG_6369.jpg, _MG_6370.jpg, _MG_6371.jpg, _MG_6372.jpg, _MG_6373.jpg, _MG_6374.jpg, _MG_6375.jpg, _MG_6376.jpg, _MG_6377.jpg, _MG_6378.jpg, _MG_6379.jpg, _MG_6380.jpg\n"
     ]
    }
   ],
   "source": [
    "align = AlignLayers(\"align\", job.wdir, \"Immagini modificate\", method=AlignLayers.ALIGN_RIGID)"
   ]
  },
  {
   "cell_type": "code",
   "execution_count": 8,
   "id": "6bb04b04-94dd-459a-9769-67ec68653962",
   "metadata": {
    "tags": []
   },
   "outputs": [],
   "source": [
    "job.add_action(align)"
   ]
  },
  {
   "cell_type": "code",
   "execution_count": 9,
   "id": "ee5f05ef-1081-4e65-8081-d3c00cb0ee97",
   "metadata": {
    "tags": []
   },
   "outputs": [
    {
     "name": "stdout",
     "output_type": "stream",
     "text": [
      "\u001b[1m\u001b[34mrun align\u001b[0m\n"
     ]
    },
    {
     "data": {
      "application/vnd.jupyter.widget-view+json": {
       "model_id": "7c86fe2c964c4210807ed215226fcb8e",
       "version_major": 2,
       "version_minor": 0
      },
      "text/plain": [
       "align:   0%|          | 0/76 [00:00<?, ?it/s]"
      ]
     },
     "metadata": {},
     "output_type": "display_data"
    },
    {
     "name": "stdout",
     "output_type": "stream",
     "text": [
      "\u001b[1m\u001b[32malign:\u001b[0m\u001b[32m elapsed time: 00:02:23.93s\u001b[K\u001b[0mg\u001b[KKK\n",
      "\u001b[1m\u001b[32mjob:\u001b[0m\u001b[32m elapsed time: 00:02:23.93s\u001b[K\u001b[0m\n"
     ]
    }
   ],
   "source": [
    "job.run()"
   ]
  },
  {
   "cell_type": "code",
   "execution_count": null,
   "id": "e3534571-d30f-48e7-9e53-301090a730f3",
   "metadata": {},
   "outputs": [],
   "source": []
  },
  {
   "cell_type": "code",
   "execution_count": null,
   "id": "bb4573a1-7b36-4194-b769-306e765c61a8",
   "metadata": {},
   "outputs": [],
   "source": []
  }
 ],
 "metadata": {
  "kernelspec": {
   "display_name": "Python 3 (ipykernel)",
   "language": "python",
   "name": "python3"
  },
  "language_info": {
   "codemirror_mode": {
    "name": "ipython",
    "version": 3
   },
   "file_extension": ".py",
   "mimetype": "text/x-python",
   "name": "python",
   "nbconvert_exporter": "python",
   "pygments_lexer": "ipython3",
   "version": "3.11.5"
  }
 },
 "nbformat": 4,
 "nbformat_minor": 5
}
