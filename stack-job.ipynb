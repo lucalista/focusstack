{
 "cells": [
  {
   "cell_type": "code",
   "execution_count": 1,
   "id": "d3c9e25f-0b64-4aae-b43c-1384fb37c496",
   "metadata": {
    "tags": []
   },
   "outputs": [],
   "source": [
    "from focus_stack import file_folder\n",
    "from termcolor import colored, cprint\n",
    "import focus_stack as stk\n",
    "from focus_stack.helper import chunks\n",
    "from focus_stack.align import img_align\n",
    "from focus_stack.balance import img_lumi_balance, img_lumi_balance_rgb, img_lumi_balance_hsv\n",
    "from focus_stack.stack import chunks, focus_stack\n",
    "from focus_stack.framework import  Job, ActionList, Timer\n",
    "import os\n",
    "import time"
   ]
  },
  {
   "cell_type": "code",
   "execution_count": 2,
   "id": "7959fb68-6e4e-4ef1-885d-29c799524539",
   "metadata": {
    "tags": []
   },
   "outputs": [],
   "source": [
    "class StackJob(Job):\n",
    "    def __init__(self, name, wdir):\n",
    "        assert  os.path.exists(wdir), 'Path does not exist: ' + wdir\n",
    "        self.wdir = wdir\n",
    "        Job.__init__(self, name)"
   ]
  },
  {
   "cell_type": "code",
   "execution_count": 3,
   "id": "65fd0521-edf7-47d5-8a08-e7dbf3b01518",
   "metadata": {
    "tags": []
   },
   "outputs": [],
   "source": [
    "class FrameDirectory:\n",
    "    def __init__(self, wdir, name, input_path, output_path=''):\n",
    "        assert  os.path.exists(wdir), 'Path does not exist: ' + wdir\n",
    "        self.wdir = wdir\n",
    "        self.input_dir = wdir + input_path\n",
    "        assert  os.path.exists(self.input_dir), 'Path does not exist: ' + self.input_dir\n",
    "        if output_path=='': output_path = name\n",
    "        self.output_dir = wdir + output_path\n",
    "        if not os.path.exists(self.output_dir): os.makedirs( self.output_dir)\n",
    "        self.fnames = file_folder(self.input_dir)\n",
    "        \n",
    "class FramesRefActions(FrameDirectory, ActionList):\n",
    "    def __init__(self, wdir, name, input_path, output_path='', ref_idx=-1, step_align=True):\n",
    "        FrameDirectory.__init__(self, wdir, name, input_path, output_path)\n",
    "        ActionList.__init__(self, name, len(self.fnames))\n",
    "        self.ref_idx = ref_idx\n",
    "        if ref_idx == -1: self.ref_idx = len(self.fnames) // 2\n",
    "        self.step_align = step_align\n",
    "    def run_step(self):\n",
    "        cprint(\"action: {} \".format(self.fnames[self.count - 1]), \"blue\", end='\\r')\n",
    "        if self.count == 1:\n",
    "            self.__idx = self.ref_idx if self.step_align else 0\n",
    "            self.__ref_idx = self.ref_idx\n",
    "            self.__idx_step = +1\n",
    "        self.run_frame(self.__idx, self.__ref_idx)\n",
    "        ll = len(self.fnames)\n",
    "        if(self.__idx < ll):\n",
    "            if self.step_align: self.__ref_idx = self.__idx\n",
    "            self.__idx += self.__idx_step\n",
    "        if(self.__idx == ll):\n",
    "            self.__idx = self.ref_idx - 1\n",
    "            if self.step_align: self.__ref_idx = self.ref_idx\n",
    "            self.__idx_step = -1"
   ]
  },
  {
   "cell_type": "code",
   "execution_count": 4,
   "id": "3e6839d5-107f-49d3-aca0-2b2b5fe2bf27",
   "metadata": {
    "tags": []
   },
   "outputs": [],
   "source": [
    "class AlignLayers(FramesRefActions):\n",
    "    ALIGN_HOMOGRAPHY = \"homography\"\n",
    "    ALIGN_RIGID = \"rigid\"\n",
    "    def __init__(self, wdir, name, input_path, output_path='', ref_idx=-1, step_align=True, detector_method='SIFT', descriptor_method='SIFT', match_method='KNN', flann_idx_kdtree=0, match_threshold=0.7, method=ALIGN_HOMOGRAPHY, plot=False):\n",
    "        FramesRefActions.__init__(self, wdir, name, input_path, output_path, ref_idx, step_align)\n",
    "        assert  os.path.exists(wdir + input_path), 'Path does not exist: ' + wdir + input_path\n",
    "        self.detector_method = detector_method\n",
    "        self.descriptor_method = descriptor_method\n",
    "        self.match_method = match_method\n",
    "        self.flann_idx_kdtree = flann_idx_kdtree\n",
    "        self.match_threshold = match_threshold\n",
    "        self.method = method\n",
    "        self.plot = plot\n",
    "    def run_frame(self, idx, ref_idx):\n",
    "        print(\"frame: {}, index: {}, reference: {}, align file: {}                    \".format(self.count, idx, ref_idx, self.fnames[idx]), end='\\r')\n",
    "        ref_dir = self.output_dir if self.step_align else self.input_dir\n",
    "        img_align(self.fnames[ref_idx], self.fnames[idx], ref_dir, self.input_dir, self.output_dir, self.detector_method, self.descriptor_method, self.match_method, self.flann_idx_kdtree, self.match_threshold, self.method, self.plot, verbose=False)"
   ]
  },
  {
   "cell_type": "code",
   "execution_count": 5,
   "id": "170182bd-206f-43ad-8a26-8782870fa446",
   "metadata": {
    "tags": []
   },
   "outputs": [],
   "source": [
    "class BalanceLayers(FramesRefActions):\n",
    "    BALANCE_LUMI = \"lumi\"\n",
    "    BALANCE_RGB = \"rgb\"\n",
    "    BALANCE_SV = \"sv\"\n",
    "    BALANCE_LS = \"ls\"\n",
    "    def __init__(self, wdir, name, input_path, output_path='', ref_idx=-1, method=BALANCE_LUMI, mask_radius=-1, i_min=0, i_max=255, plot=False):\n",
    "        FramesRefActions.__init__(self, wdir, name, input_path, output_path, ref_idx, step_align=False)\n",
    "        assert  os.path.exists(wdir + input_path), 'Path does not exist: ' + wdir + input_path\n",
    "        self.method = method\n",
    "        self.mask_radius = mask_radius\n",
    "        self.i_min = i_min\n",
    "        self.i_max = i_max\n",
    "        self.plot = plot\n",
    "    def run_frame(self, idx, ref_idx):\n",
    "        print(\"frame: {}, index: {}, reference: {}, balance file: {}                    \".format(self.count, idx, ref_idx, self.fnames[idx]), end='\\r')\n",
    "        if self.method ==BalanceLayers.BALANCE_LUMI:\n",
    "            img_lumi_balance(self.fnames[ref_idx], self.fnames[idx], self.input_dir, self.output_dir, self.mask_radius, self.i_min, self.i_max, self.plot, verbose=False)\n",
    "        elif self.method == BalanceLayers.BALANCE_RGB:\n",
    "            img_lumi_balance_rgb(self.fnames[ref_idx], self.fnames[idx], self.input_dir, self.output_dir, self.mask_radius, self.i_min, self.i_max, self.plot, verbose=False)\n",
    "        elif self.method == BalanceLayers.BALANCE_SV:\n",
    "            img_lumi_balance_hsv(self.fnames[ref_idx], self.fnames[idx], self.input_dir, self.output_dir, self.mask_radius, self.i_min, self.i_max, self.plot, verbose=False)\n",
    "        else: \n",
    "            raise Exceltion(\"invalid method: \" + self.method)"
   ]
  },
  {
   "cell_type": "code",
   "execution_count": 18,
   "id": "17e20fc0-c41a-4ebf-a464-69fe62aef53b",
   "metadata": {
    "tags": []
   },
   "outputs": [],
   "source": [
    "class FocusStackBase:\n",
    "    ENERGY_SOBEL = \"sobel\"\n",
    "    ENERGY_LAPLACIAN = \"laplacian\"\n",
    "    METHOD_PYRAMID = \"pyramid\"\n",
    "    METHOD_MAX = \"max\"\n",
    "    METHOD_AVERAGE = \"average\"\n",
    "    def __init__(self, exif_dir='', postfix='', denoise=0, method=METHOD_PYRAMID, energy=ENERGY_LAPLACIAN, pyramid_min_size=32, kernel_size=5, blur_size=5, smooth_size=32):\n",
    "        self.exif_dir = exif_dir\n",
    "        self.postfix = postfix\n",
    "        self.denoise = denoise\n",
    "        self.method = method\n",
    "        self.energy = energy\n",
    "        self.pyramid_min_size = pyramid_min_size\n",
    "        self.kernel_size = kernel_size\n",
    "        self.blur_size = blur_size\n",
    "        self.smooth_size = smooth_size"
   ]
  },
  {
   "cell_type": "code",
   "execution_count": 19,
   "id": "fecf76bd-de3c-4ffd-a2db-6f9fb15c1ff9",
   "metadata": {
    "tags": []
   },
   "outputs": [],
   "source": [
    "class FocusStackBunch(FrameDirectory, ActionList, FocusStackBase):\n",
    "    ENERGY_SOBEL = \"sobel\"\n",
    "    ENERGY_LAPLACIAN = \"laplacian\"\n",
    "    METHOD_PYRAMID = \"pyramid\"\n",
    "    METHOD_MAX = \"max\"\n",
    "    METHOD_AVERAGE = \"average\"\n",
    "    def __init__(self, wdir, name, input_path, output_path='', exif_dir='', frames=10, overlap=0, postfix='', denoise=0, method=METHOD_PYRAMID, energy=ENERGY_LAPLACIAN, pyramid_min_size=32, kernel_size=5, blur_size=5, smooth_size=32):\n",
    "        self.__chunks = chunks(wdir + input_path, frames, overlap)\n",
    "        FrameDirectory.__init__(self, wdir, name, input_path, output_path)\n",
    "        # fnames exists, could be passsed to chunks\n",
    "        n_batches = len(self.__chunks)\n",
    "        ActionList.__init__(self, name, n_batches)\n",
    "        FocusStackBase.__init__(self, exif_dir, postfix, denoise, method, energy, pyramid_min_size, kernel_size, blur_size, smooth_size)\n",
    "        self.frames = frames\n",
    "        self.overlap = overlap\n",
    "    def run_step(self):\n",
    "        print(\"bunch: {}                    \".format(self.count), end='\\r')\n",
    "        focus_stack(self.__chunks[self.count - 1], self.input_dir, self.output_dir, self.wdir + self.exif_dir, self.postfix, self.denoise, choice=self.method, energy=self.energy, pyramid_min_size=self.pyramid_min_size, kernel_size=self.kernel_size, blur_size=self.blur_size, smooth_size=self.smooth_size, verbose=False)"
   ]
  },
  {
   "cell_type": "code",
   "execution_count": 20,
   "id": "286ae2da-6e38-4f62-98d6-1523577f2690",
   "metadata": {
    "tags": []
   },
   "outputs": [],
   "source": [
    "class FocusStack(FrameDirectory, Timer):\n",
    "    ENERGY_SOBEL = \"sobel\"\n",
    "    ENERGY_LAPLACIAN = \"laplacian\"\n",
    "    METHOD_PYRAMID = \"pyramid\"\n",
    "    METHOD_MAX = \"max\"\n",
    "    METHOD_AVERAGE = \"average\"\n",
    "    def __init__(self, wdir, name, input_path, output_path='', exif_dir='', postfix='', denoise=0, method=METHOD_PYRAMID, energy=ENERGY_LAPLACIAN, pyramid_min_size=32, kernel_size=5, blur_size=5, smooth_size=32):\n",
    "        self.name = name\n",
    "        FrameDirectory.__init__(self, wdir, name, input_path, output_path)\n",
    "        Timer.__init__(self, name)\n",
    "        FocusStackBase.__init__(self, exif_dir, postfix, denoise, method, energy, pyramid_min_size, kernel_size, blur_size, smooth_size)\n",
    "    def run_core(self):\n",
    "        cprint(\"run \" + self.name, \"blue\", attrs=[\"bold\"])\n",
    "        focus_stack(self.fnames, self.input_dir, self.output_dir, self.wdir + self.exif_dir, self.postfix, self.denoise, choice=self.method, energy=self.energy, pyramid_min_size=self.pyramid_min_size, kernel_size=self.kernel_size, blur_size=self.blur_size, smooth_size=self.smooth_size, verbose=False)"
   ]
  },
  {
   "cell_type": "code",
   "execution_count": 21,
   "id": "9268d1fe-c97d-489b-bd51-a381fed2203f",
   "metadata": {
    "tags": []
   },
   "outputs": [
    {
     "name": "stdout",
     "output_type": "stream",
     "text": [
      "Folder: 'E:/Focus stacking/2024-03-17 - Baltic Diptera/A/batches'\n",
      "- 18 files: _MG_6301.jpg, _MG_6301_stack_pyr.jpg, _MG_6309.jpg, _MG_6311_stack_pyr.jpg, _MG_6317.jpg, _MG_6321_stack_pyr.jpg, _MG_6325.jpg, _MG_6333_stack_pyr.jpg, _MG_6335.jpg, _MG_6343.jpg, _MG_6343_stack_pyr.jpg, _MG_6352.jpg, _MG_6355_stack_pyr.jpg, _MG_6360.jpg, _MG_6365_stack_pyr.jpg, _MG_6368.jpg, _MG_6375_stack_pyr.jpg, _MG_6376.jpg\n"
     ]
    }
   ],
   "source": [
    "job = StackJob(\"job\", \"E:/Focus stacking/2024-03-17 - Baltic Diptera/A/\")\n",
    "job.add_action(AlignLayers(job.wdir, \"align\", \"Immagini modificate\", method=AlignLayers.ALIGN_RIGID))\n",
    "job.add_action(BalanceLayers(job.wdir, \"balance\", \"align\", method=BalanceLayers.BALANCE_LUMI, mask_radius=0.8, i_min=10, i_max=255))\n",
    "job.add_action(FocusStackBunch(job.wdir, \"batches\", \"balance\", exif_dir=\"Immagini modificate\", postfix='_stack_pyr', denoise=0.8, method=FocusStackBunch.METHOD_PYRAMID, energy=stk.ENERGY_LAPLACIAN))\n",
    "job.add_action(FocusStack(job.wdir, \"stack\", \"batches\", exif_dir=\"Immagini modificate\", postfix='_stack_pyr', denoise=0.8, method=FocusStackBunch.METHOD_PYRAMID, energy=stk.ENERGY_LAPLACIAN))"
   ]
  },
  {
   "cell_type": "code",
   "execution_count": 22,
   "id": "ee5f05ef-1081-4e65-8081-d3c00cb0ee97",
   "metadata": {
    "tags": []
   },
   "outputs": [
    {
     "name": "stdout",
     "output_type": "stream",
     "text": [
      "\u001b[1m\u001b[34mrun stack\u001b[0m\n",
      "\u001b[1m\u001b[32mstack:\u001b[0m\u001b[32m elapsed time: 00:00:39.64s                    \u001b[0m\n",
      "\u001b[1m\u001b[32mjob:\u001b[0m\u001b[32m elapsed time: 00:00:39.64s                    \u001b[0m\n"
     ]
    }
   ],
   "source": [
    "job.run()"
   ]
  },
  {
   "cell_type": "code",
   "execution_count": null,
   "id": "e3534571-d30f-48e7-9e53-301090a730f3",
   "metadata": {},
   "outputs": [],
   "source": []
  },
  {
   "cell_type": "code",
   "execution_count": null,
   "id": "bb4573a1-7b36-4194-b769-306e765c61a8",
   "metadata": {},
   "outputs": [],
   "source": []
  }
 ],
 "metadata": {
  "kernelspec": {
   "display_name": "Python 3 (ipykernel)",
   "language": "python",
   "name": "python3"
  },
  "language_info": {
   "codemirror_mode": {
    "name": "ipython",
    "version": 3
   },
   "file_extension": ".py",
   "mimetype": "text/x-python",
   "name": "python",
   "nbconvert_exporter": "python",
   "pygments_lexer": "ipython3",
   "version": "3.11.5"
  }
 },
 "nbformat": 4,
 "nbformat_minor": 5
}
