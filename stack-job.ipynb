{
 "cells": [
  {
   "cell_type": "code",
   "execution_count": 1,
   "id": "d3c9e25f-0b64-4aae-b43c-1384fb37c496",
   "metadata": {
    "tags": []
   },
   "outputs": [],
   "source": [
    "from focus_stack import Job, ActionList, file_folder\n",
    "from termcolor import colored, cprint\n",
    "import focus_stack as stk\n",
    "import os\n",
    "import time"
   ]
  },
  {
   "cell_type": "code",
   "execution_count": 2,
   "id": "7959fb68-6e4e-4ef1-885d-29c799524539",
   "metadata": {
    "tags": []
   },
   "outputs": [],
   "source": [
    "class PathJob(Job):\n",
    "    def __init__(self, name, wdir):\n",
    "        assert  os.path.exists(wdir), 'Path does not exist: ' + wdir\n",
    "        self.wdir = wdir\n",
    "        Job.__init__(self, name)"
   ]
  },
  {
   "cell_type": "code",
   "execution_count": 3,
   "id": "65fd0521-edf7-47d5-8a08-e7dbf3b01518",
   "metadata": {
    "tags": []
   },
   "outputs": [],
   "source": [
    "class FramesRefActions(ActionList):\n",
    "    def __init__(self, name, wdir, input_path, output_path='', ref_idx=-1, step_align=True):\n",
    "        assert  os.path.exists(wdir), 'Path does not exist: ' + wdir\n",
    "        self.wdir = wdir\n",
    "        if output_path=='': output_path = name\n",
    "        self.input_dir = wdir + input_path\n",
    "        self.output_dir = wdir + output_path\n",
    "        if not os.path.exists( self.output_dir): os.makedirs( self.output_dir)\n",
    "        self.fnames = file_folder(self.input_dir)\n",
    "        ActionList.__init__(self, name, len(self.fnames))\n",
    "        self.ref_idx = ref_idx\n",
    "        if ref_idx == -1: self.ref_idx = len(self.fnames) // 2\n",
    "        self.step_align = step_align\n",
    "    def run_step(self):\n",
    "        cprint(\"action: {} \".format(self.fnames[self.count - 1]), \"blue\", end='\\r')\n",
    "        if self.count == 1:\n",
    "            self.__idx = self.ref_idx if self.step_align else 0\n",
    "            self.__ref_idx = self.ref_idx\n",
    "            self.__idx_step = +1\n",
    "        self.run_frame(self.__idx, self.__ref_idx)\n",
    "        ll = len(self.fnames)\n",
    "        if(self.__idx < ll):\n",
    "            if self.step_align: self.__ref_idx = self.__idx\n",
    "            self.__idx += self.__idx_step\n",
    "        if(self.__idx == ll):\n",
    "            self.__idx = self.ref_idx - 1\n",
    "            if self.step_align: self.__ref_idx = self.ref_idx\n",
    "            self.__idx_step = -1"
   ]
  },
  {
   "cell_type": "code",
   "execution_count": 11,
   "id": "3e6839d5-107f-49d3-aca0-2b2b5fe2bf27",
   "metadata": {
    "tags": []
   },
   "outputs": [],
   "source": [
    "class AlignLayers(FramesRefActions):\n",
    "    ALIGN_HOMOGRAPHY = \"homography\"\n",
    "    ALIGN_RIGID = \"rigid\"\n",
    "    def __init__(self, wdir, name, input_path, output_path='', ref_idx=-1, step_align=True, detector_method='SIFT', descriptor_method='SIFT', match_method='KNN', flann_idx_kdtree=0, match_threshold=0.7, method=ALIGN_HOMOGRAPHY, plot=False):\n",
    "        FramesRefActions.__init__(self, name, wdir, input_path, output_path, ref_idx, step_align)\n",
    "        self.detector_method = detector_method\n",
    "        self.descriptor_method = descriptor_method\n",
    "        self.match_method = match_method\n",
    "        self.flann_idx_kdtree = flann_idx_kdtree\n",
    "        self.match_threshold = match_threshold\n",
    "        self.method = method\n",
    "        self.plot = plot\n",
    "    def run_frame(self, idx, ref_idx):\n",
    "        print(\"frame: {}, index: {}, reference: {}, align file: {}                    \".format(self.count, idx, ref_idx, self.fnames[idx]), end='\\r')\n",
    "        ref_dir = self.output_dir if self.step_align else self.input_dir\n",
    "        stk.img_align(self.fnames[ref_idx], self.fnames[idx], ref_dir, self.input_dir, self.output_dir, self.detector_method, self.descriptor_method, self.match_method, self.flann_idx_kdtree, self.match_threshold, self.method, self.plot, verbose=False)"
   ]
  },
  {
   "cell_type": "code",
   "execution_count": 12,
   "id": "2b956268-778d-46be-a7cd-076db24bde40",
   "metadata": {
    "tags": []
   },
   "outputs": [],
   "source": [
    "class BalanceLayers(FramesRefActions):\n",
    "    BALANCE_LUMI = \"lumi\"\n",
    "    BALANCE_RGB = \"rgb\"\n",
    "    BALANCE_SV = \"sv\"\n",
    "    BALANCE_LS = \"ls\"\n",
    "    def __init__(self, wdir, name, input_path, output_path='', ref_idx=-1, method=BALANCE_LUMI, mask_radius=-1, i_min=0, i_max=255, plot=False):\n",
    "        FramesRefActions.__init__(self, name, wdir, input_path, output_path, ref_idx, step_align=False)\n",
    "        self.method = method\n",
    "        self.mask_radius = mask_radius\n",
    "        self.i_min = i_min\n",
    "        self.i_max = i_max\n",
    "        self.plot = plot\n",
    "    def run_frame(self, idx, ref_idx):\n",
    "        print(\"frame: {}, index: {}, reference: {}, balance file: {}                    \".format(self.count, idx, ref_idx, self.fnames[idx]), end='\\r')\n",
    "        if self.method ==BalanceLayers.BALANCE_LUMI:\n",
    "            stk.img_lumi_balance(self.fnames[ref_idx], self.fnames[idx], self.input_dir, self.output_dir, self.mask_radius, self.i_min, self.i_max, self.plot, verbose=False)\n",
    "        elif self.method == BalanceLayers.BALANCE_RGB:\n",
    "            stk.img_lumi_balance_rgb(self.fnames[ref_idx], self.fnames[idx], self.input_dir, self.output_dir, self.mask_radius, self.i_min, self.i_max, self.plot, verbose=False)\n",
    "        elif self.method == BalanceLayers.BALANCE_SV:\n",
    "            stk.img_lumi_balance_hsv(self.fnames[ref_idx], self.fnames[idx], self.input_dir, self.output_dir, self.mask_radius, self.i_min, self.i_max, self.plot, verbose=False)\n",
    "        else: \n",
    "            raise Exceltion(\"invalid method: \" + self.method)"
   ]
  },
  {
   "cell_type": "code",
   "execution_count": 7,
   "id": "011866de-8f5b-4d04-b637-af137a6abbcf",
   "metadata": {
    "tags": []
   },
   "outputs": [],
   "source": [
    "job = PathJob(\"job\", \"E:/Focus stacking/2024-03-17 - Baltic Diptera/A/\")\n",
    "align = AlignLayers(job.wdir, \"align\", \"Immagini modificate\", method=AlignLayers.ALIGN_RIGID)\n",
    "balance = BalanceLayers(job.wdir, \"balance\", \"align\", method=BalanceLayers.BALANCE_LUMI, mask_radius=0.8, i_min=10, i_max=255)"
   ]
  },
  {
   "cell_type": "code",
   "execution_count": 9,
   "id": "6bb04b04-94dd-459a-9769-67ec68653962",
   "metadata": {
    "tags": []
   },
   "outputs": [],
   "source": [
    "job.add_action(align)\n",
    "job.add_action(balance)"
   ]
  },
  {
   "cell_type": "code",
   "execution_count": 10,
   "id": "ee5f05ef-1081-4e65-8081-d3c00cb0ee97",
   "metadata": {
    "tags": []
   },
   "outputs": [
    {
     "name": "stdout",
     "output_type": "stream",
     "text": [
      "\u001b[1m\u001b[34mrun align\u001b[0m\n"
     ]
    },
    {
     "data": {
      "application/vnd.jupyter.widget-view+json": {
       "model_id": "be059af5df4f417ba1825492b959fbae",
       "version_major": 2,
       "version_minor": 0
      },
      "text/plain": [
       "align:   0%|          | 0/76 [00:00<?, ?it/s]"
      ]
     },
     "metadata": {},
     "output_type": "display_data"
    },
    {
     "name": "stdout",
     "output_type": "stream",
     "text": [
      "\u001b[1m\u001b[32malign:\u001b[0m\u001b[32m elapsed time: 00:02:19.71s                    \u001b[0m      \n",
      "\u001b[1m\u001b[34mrun balance\u001b[0m\n"
     ]
    },
    {
     "data": {
      "application/vnd.jupyter.widget-view+json": {
       "model_id": "28319f092c1c444e9f6dc7b0aaaaadf0",
       "version_major": 2,
       "version_minor": 0
      },
      "text/plain": [
       "balance:   0%|          | 0/76 [00:00<?, ?it/s]"
      ]
     },
     "metadata": {},
     "output_type": "display_data"
    },
    {
     "name": "stdout",
     "output_type": "stream",
     "text": [
      "\u001b[1m\u001b[32mbalance:\u001b[0m\u001b[32m elapsed time: 00:00:28.98s                    \u001b[0m      \n",
      "\u001b[1m\u001b[32mjob:\u001b[0m\u001b[32m elapsed time: 00:02:48.68s                    \u001b[0m\n"
     ]
    }
   ],
   "source": [
    "job.run()"
   ]
  },
  {
   "cell_type": "code",
   "execution_count": null,
   "id": "e3534571-d30f-48e7-9e53-301090a730f3",
   "metadata": {},
   "outputs": [],
   "source": []
  },
  {
   "cell_type": "code",
   "execution_count": null,
   "id": "bb4573a1-7b36-4194-b769-306e765c61a8",
   "metadata": {},
   "outputs": [],
   "source": []
  }
 ],
 "metadata": {
  "kernelspec": {
   "display_name": "Python 3 (ipykernel)",
   "language": "python",
   "name": "python3"
  },
  "language_info": {
   "codemirror_mode": {
    "name": "ipython",
    "version": 3
   },
   "file_extension": ".py",
   "mimetype": "text/x-python",
   "name": "python",
   "nbconvert_exporter": "python",
   "pygments_lexer": "ipython3",
   "version": "3.11.5"
  }
 },
 "nbformat": 4,
 "nbformat_minor": 5
}
