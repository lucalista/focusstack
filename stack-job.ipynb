{
 "cells": [
  {
   "cell_type": "code",
   "execution_count": 1,
   "id": "d3c9e25f-0b64-4aae-b43c-1384fb37c496",
   "metadata": {
    "tags": []
   },
   "outputs": [],
   "source": [
    "from focus_stack.stack_framework import *\n",
    "from focus_stack.align import AlignLayers"
   ]
  },
  {
   "cell_type": "code",
   "execution_count": 2,
   "id": "9268d1fe-c97d-489b-bd51-a381fed2203f",
   "metadata": {
    "tags": []
   },
   "outputs": [],
   "source": [
    "job = StackJob(\"job\", \"E:/Focus stacking/2024-03-17 - Baltic Diptera/A/\")\n",
    "job.add_action(AlignLayers(job.working_directory, \"align\", input_path=\"Immagini modificate\", method=AlignLayers.ALIGN_RIGID))\n",
    "#job.add_action(BalanceLayers(job.working_directory, \"balance\", input_path=\"align\", method=BalanceLayers.BALANCE_LUMI, mask_radius=0.8, i_min=10, i_max=255))\n",
    "#job.add_action(FocusStackBunch(job.working_directory, \"batches\", input_path=\"balance\", exif_dir=\"Immagini modificate\", postfix='_stack_pyr', denoise=0.8, method=FocusStackBunch.METHOD_PYRAMID, energy=FocusStackBunch.ENERGY_LAPLACIAN))\n",
    "#job.add_action(FocusStack(job.working_directory, \"stack\", input_path=\"batches\", exif_dir=\"Immagini modificate\", postfix='_stack_pyr', denoise=0.8, method=FocusStack.METHOD_PYRAMID, energy=FocusStack.ENERGY_LAPLACIAN))"
   ]
  },
  {
   "cell_type": "code",
   "execution_count": null,
   "id": "ee5f05ef-1081-4e65-8081-d3c00cb0ee97",
   "metadata": {
    "tags": []
   },
   "outputs": [
    {
     "name": "stdout",
     "output_type": "stream",
     "text": [
      "\u001b[1m\u001b[34mrunning align\u001b[0m\n",
      "\u001b[34m65 files in folder: 'E:/Focus stacking/2024-03-17 - Baltic Diptera/A/Immagini modificate'\u001b[0m\n"
     ]
    },
    {
     "data": {
      "application/vnd.jupyter.widget-view+json": {
       "model_id": "54597800bf404a9aafaccd8dba416c45",
       "version_major": 2,
       "version_minor": 0
      },
      "text/plain": [
       "align:   0%|          | 0/65 [00:00<?, ?it/s]"
      ]
     },
     "metadata": {},
     "output_type": "display_data"
    },
    {
     "name": "stdout",
     "output_type": "stream",
     "text": [
      "aligning frame: 64, file: _MG_6302.jpg                    \r"
     ]
    }
   ],
   "source": [
    "job.run()"
   ]
  },
  {
   "cell_type": "code",
   "execution_count": null,
   "id": "e3534571-d30f-48e7-9e53-301090a730f3",
   "metadata": {},
   "outputs": [],
   "source": []
  },
  {
   "cell_type": "code",
   "execution_count": null,
   "id": "bb4573a1-7b36-4194-b769-306e765c61a8",
   "metadata": {},
   "outputs": [],
   "source": []
  }
 ],
 "metadata": {
  "kernelspec": {
   "display_name": "Python 3 (ipykernel)",
   "language": "python",
   "name": "python3"
  },
  "language_info": {
   "codemirror_mode": {
    "name": "ipython",
    "version": 3
   },
   "file_extension": ".py",
   "mimetype": "text/x-python",
   "name": "python",
   "nbconvert_exporter": "python",
   "pygments_lexer": "ipython3",
   "version": "3.11.5"
  }
 },
 "nbformat": 4,
 "nbformat_minor": 5
}
