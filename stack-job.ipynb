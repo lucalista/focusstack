{
 "cells": [
  {
   "cell_type": "markdown",
   "id": "8f55d468-3b6d-4da0-85a3-8b352e091ad3",
   "metadata": {},
   "source": [
    "# Focus stacking with image bunches\n",
    "\n",
    "Example of focus stacking with automatic alignment and luminosity balance, and partial stacking of image bunches before the final stacking."
   ]
  },
  {
   "cell_type": "code",
   "execution_count": 2,
   "id": "d3c9e25f-0b64-4aae-b43c-1384fb37c496",
   "metadata": {
    "tags": []
   },
   "outputs": [],
   "source": [
    "from focus_stack import *"
   ]
  },
  {
   "cell_type": "code",
   "execution_count": 3,
   "id": "9268d1fe-c97d-489b-bd51-a381fed2203f",
   "metadata": {
    "tags": []
   },
   "outputs": [],
   "source": [
    "job = StackJob(\"job\", \"E:/Focus stacking/2024-04-05 - Chironomidae\")\n",
    "job.add_action(AlignLayers(\"align_test\", input_path=\"src\"))\n",
    "job.add_action(BalanceLayersLumi(\"balance\", i_min=30, i_max=225, mask_size=0.5))\n",
    "job.add_action(FocusStackBunch(\"bunches\", PyramidStack(), frames=10, overlap=2, denoise=0.8))\n",
    "job.add_action(FocusStack(\"stack\", PyramidStack(), postfix='_pyr', denoise=0.8))"
   ]
  },
  {
   "cell_type": "code",
   "execution_count": null,
   "id": "ee5f05ef-1081-4e65-8081-d3c00cb0ee97",
   "metadata": {
    "tags": []
   },
   "outputs": [
    {
     "name": "stdout",
     "output_type": "stream",
     "text": [
      "\u001b[1m\u001b[34mrunning align_test\u001b[0m\n",
      "\u001b[34m41 files in folder: 'E:/Focus stacking/2024-04-05 - Chironomidae/src'\u001b[0m\n"
     ]
    },
    {
     "data": {
      "application/vnd.jupyter.widget-view+json": {
       "model_id": "b5ce7863a7c84a9195a7d121f03d4c69",
       "version_major": 2,
       "version_minor": 0
      },
      "text/plain": [
       "align_test:   0%|          | 0/41 [00:00<?, ?it/s]"
      ]
     },
     "metadata": {},
     "output_type": "display_data"
    },
    {
     "name": "stdout",
     "output_type": "stream",
     "text": [
      "aligning frame: 6, file: _MG_7670.jpg                    \r"
     ]
    }
   ],
   "source": [
    "job.run()"
   ]
  },
  {
   "cell_type": "code",
   "execution_count": null,
   "id": "98a97d32-3343-4c19-b300-2c689dfd9a1a",
   "metadata": {},
   "outputs": [],
   "source": []
  }
 ],
 "metadata": {
  "kernelspec": {
   "display_name": "Python 3 (ipykernel)",
   "language": "python",
   "name": "python3"
  },
  "language_info": {
   "codemirror_mode": {
    "name": "ipython",
    "version": 3
   },
   "file_extension": ".py",
   "mimetype": "text/x-python",
   "name": "python",
   "nbconvert_exporter": "python",
   "pygments_lexer": "ipython3",
   "version": "3.11.5"
  }
 },
 "nbformat": 4,
 "nbformat_minor": 5
}
