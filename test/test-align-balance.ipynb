{
 "cells": [
  {
   "cell_type": "code",
   "execution_count": null,
   "id": "c6bb60b4-4240-4dd9-9654-e36f9d996548",
   "metadata": {},
   "outputs": [],
   "source": [
    "import sys\n",
    "sys.path.append('../')\n",
    "from focus_stack import *"
   ]
  },
  {
   "cell_type": "code",
   "execution_count": null,
   "id": "3bfe5718-f27e-474e-9011-9b8a5f4fb283",
   "metadata": {},
   "outputs": [],
   "source": [
    "job = StackJob(\"job\", \"./\", input_path=\"img-jpg\")\n",
    "job.add_action(Actions(\"img-jpg-align-balance-ls\", actions=[AlignFrames(), BalanceFrames(channel=LUMI, corr_map=GAMMA)]))\n",
    "job.run()"
   ]
  },
  {
   "cell_type": "code",
   "execution_count": null,
   "id": "480f4504-6a20-4255-b79f-7b28c7f8e267",
   "metadata": {},
   "outputs": [],
   "source": [
    "job = StackJob(\"job\", \"./\", input_path=\"img-jpg\")\n",
    "job.add_action(Actions(\"img-jpg-align-balance-sv\", actions=[AlignFrames(), BalanceFrames(channel=HSV)]))\n",
    "job.run()"
   ]
  },
  {
   "cell_type": "code",
   "execution_count": null,
   "id": "4727596a-f092-42cd-ab5d-72beaec272ed",
   "metadata": {},
   "outputs": [],
   "source": [
    "job = StackJob(\"job\", \"./\", input_path=\"img-jpg\")\n",
    "job.add_action(Actions(\"img-jpg-align-balance-rgb\", actions=[AlignFrames(), BalanceFrames(channel=RGB))]))\n",
    "job.run()"
   ]
  },
  {
   "cell_type": "code",
   "execution_count": null,
   "id": "dfbd7cc4-1976-4b84-8745-613d9777faaa",
   "metadata": {},
   "outputs": [],
   "source": [
    "job = StackJob(\"job\", \"./\", input_path=\"img-jpg\")\n",
    "job.add_action(Actions(\"img-jpg-align-balance-lumi\", actions=[AlignLayers(), BalanceFrames(channel=LUMI))]))\n",
    "job.run()"
   ]
  }
 ],
 "metadata": {
  "kernelspec": {
   "display_name": "Python [conda env:base] *",
   "language": "python",
   "name": "conda-base-py"
  },
  "language_info": {
   "codemirror_mode": {
    "name": "ipython",
    "version": 3
   },
   "file_extension": ".py",
   "mimetype": "text/x-python",
   "name": "python",
   "nbconvert_exporter": "python",
   "pygments_lexer": "ipython3",
   "version": "3.12.7"
  }
 },
 "nbformat": 4,
 "nbformat_minor": 5
}
