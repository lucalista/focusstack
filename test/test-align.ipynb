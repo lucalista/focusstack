{
 "cells": [
  {
   "cell_type": "code",
   "execution_count": null,
   "id": "bd4d129e-9593-4a23-944e-d9bd570960f5",
   "metadata": {},
   "outputs": [],
   "source": [
    "import sys\n",
    "sys.path.append('../')\n",
    "from focus_stack import *"
   ]
  },
  {
   "cell_type": "code",
   "execution_count": null,
   "id": "3a8d7301-3258-473e-8e4f-30d8e59bd9c2",
   "metadata": {},
   "outputs": [],
   "source": [
    "job = StackJob(\"job\", \"./\", input_path=\"img-jpg\")\n",
    "job.add_action(Actions(\"img-jpg-align\", actions=[AlignFrames()]))\n",
    "job.run()"
   ]
  },
  {
   "cell_type": "code",
   "execution_count": null,
   "id": "b746453a-4f92-49d5-8c01-890ec1d30290",
   "metadata": {},
   "outputs": [],
   "source": [
    "job = StackJob(\"job\", \"./\", input_path=\"img-tif\")\n",
    "job.add_action(Actions(\"img-tif-align\", actions=[AlignFrames()]))\n",
    "job.run()"
   ]
  }
 ],
 "metadata": {
  "kernelspec": {
   "display_name": "Python [conda env:base] *",
   "language": "python",
   "name": "conda-base-py"
  },
  "language_info": {
   "codemirror_mode": {
    "name": "ipython",
    "version": 3
   },
   "file_extension": ".py",
   "mimetype": "text/x-python",
   "name": "python",
   "nbconvert_exporter": "python",
   "pygments_lexer": "ipython3",
   "version": "3.12.7"
  }
 },
 "nbformat": 4,
 "nbformat_minor": 5
}
