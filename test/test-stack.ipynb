{
 "cells": [
  {
   "cell_type": "code",
   "execution_count": 1,
   "id": "957a4e7f-f552-4bcc-84c2-37054cbce691",
   "metadata": {},
   "outputs": [],
   "source": [
    "import sys\n",
    "sys.path.append('../')\n",
    "from focus_stack import *"
   ]
  },
  {
   "cell_type": "code",
   "execution_count": null,
   "id": "9556ab85-32ea-4df1-8f09-d53b670030a3",
   "metadata": {},
   "outputs": [
    {
     "name": "stdout",
     "output_type": "stream",
     "text": [
      "\u001b[1m\u001b[34m\u001b[1m\u001b[34mrunning img-jpg-stack\u001b[0m\u001b[0m\n",
      "\u001b[34m6 files in folder: './img-jpg'\u001b[0m\n",
      "\u001b[1m\u001b[34mrunning img-jpg-stack\u001b[0m\u001b[94m - laplacian pyramids, level: 5 \u001b[0m\r"
     ]
    }
   ],
   "source": [
    "job = StackJob(\"job\", \"./\", input_path=\"img-jpg\")\n",
    "job.add_action(FocusStack(\"img-jpg-stack\", PyramidStack(), postfix='_pyr'))\n",
    "job.run()"
   ]
  },
  {
   "cell_type": "code",
   "execution_count": null,
   "id": "ceca40fa-0fdf-4426-8368-a64ffd44b19e",
   "metadata": {},
   "outputs": [],
   "source": [
    "job = StackJob(\"job\", \"./\", input_path=\"img-tif\")\n",
    "job.add_action(FocusStack(\"img-tif-stack\", PyramidStack(), postfix='_pyr'))\n",
    "job.run()"
   ]
  },
  {
   "cell_type": "code",
   "execution_count": null,
   "id": "abf8f8aa-de76-4c53-8ca1-4ac574bed311",
   "metadata": {},
   "outputs": [],
   "source": [
    "job = StackJob(\"job\", \"./\", input_path=\"img-jpg\")\n",
    "job.add_action(FocusStack(\"img-jpg-stack\", DepthMapStack(), postfix='_dm'))\n",
    "job.run()"
   ]
  },
  {
   "cell_type": "code",
   "execution_count": null,
   "id": "ce47ab4c-be36-4cc1-9ce4-8e745eb40268",
   "metadata": {},
   "outputs": [],
   "source": [
    "job = StackJob(\"job\", \"./\", input_path=\"img-jpg\")\n",
    "job.add_action(FocusStackBunch(\"img-jpg-bunches\",  PyramidStack(), frames=3))\n",
    "job.run()"
   ]
  },
  {
   "cell_type": "code",
   "execution_count": null,
   "id": "e3597a1a-a5cc-4d0e-bb63-65dddb7c4ddb",
   "metadata": {},
   "outputs": [],
   "source": []
  }
 ],
 "metadata": {
  "kernelspec": {
   "display_name": "Python 3 (ipykernel)",
   "language": "python",
   "name": "python3"
  },
  "language_info": {
   "codemirror_mode": {
    "name": "ipython",
    "version": 3
   },
   "file_extension": ".py",
   "mimetype": "text/x-python",
   "name": "python",
   "nbconvert_exporter": "python",
   "pygments_lexer": "ipython3",
   "version": "3.12.5"
  }
 },
 "nbformat": 4,
 "nbformat_minor": 5
}
