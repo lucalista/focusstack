{
 "cells": [
  {
   "cell_type": "code",
   "execution_count": 1,
   "id": "957a4e7f-f552-4bcc-84c2-37054cbce691",
   "metadata": {},
   "outputs": [],
   "source": [
    "import sys\n",
    "sys.path.append('../')\n",
    "from focus_stack import *"
   ]
  },
  {
   "cell_type": "code",
   "execution_count": 2,
   "id": "9556ab85-32ea-4df1-8f09-d53b670030a3",
   "metadata": {},
   "outputs": [
    {
     "name": "stdout",
     "output_type": "stream",
     "text": [
      "\u001b[1m\u001b[34mrunning img-jpg-stack\u001b[0m\n",
      "\u001b[34m6 files in folder: './img-jpg'\u001b[0m\n",
      "\u001b[1m\u001b[32mimg-jpg-stack: \u001b[0m\u001b[32melapsed time: 00:00:03.74s                    \u001b[0m\n",
      "\u001b[32mimg-jpg-stack completed                    \u001b[0m\n",
      "\u001b[1m\u001b[32mjob: \u001b[0m\u001b[32melapsed time: 00:00:03.74s                    \u001b[0m\n",
      "\u001b[32mjob completed                    \u001b[0m\n"
     ]
    }
   ],
   "source": [
    "job = StackJob(\"job\", \"./\", input_path=\"img-jpg\")\n",
    "job.add_action(FocusStack(\"img-jpg-stack\", PyramidStack(), postfix='_pyr'))\n",
    "job.run()"
   ]
  },
  {
   "cell_type": "code",
   "execution_count": 3,
   "id": "ceca40fa-0fdf-4426-8368-a64ffd44b19e",
   "metadata": {},
   "outputs": [
    {
     "name": "stdout",
     "output_type": "stream",
     "text": [
      "\u001b[1m\u001b[34mrunning img-tif-stack\u001b[0m\n",
      "\u001b[34m6 files in folder: './img-tif'\u001b[0m\n",
      "\u001b[1m\u001b[32mimg-tif-stack: \u001b[0m\u001b[32melapsed time: 00:00:03.94s                    \u001b[0m\n",
      "\u001b[32mimg-tif-stack completed                    \u001b[0m\n",
      "\u001b[1m\u001b[32mjob: \u001b[0m\u001b[32melapsed time: 00:00:03.94s                    \u001b[0m\n",
      "\u001b[32mjob completed                    \u001b[0m\n"
     ]
    }
   ],
   "source": [
    "job = StackJob(\"job\", \"./\", input_path=\"img-tif\")\n",
    "job.add_action(FocusStack(\"img-tif-stack\", PyramidStack(), postfix='_pyr'))\n",
    "job.run()"
   ]
  },
  {
   "cell_type": "code",
   "execution_count": null,
   "id": "abf8f8aa-de76-4c53-8ca1-4ac574bed311",
   "metadata": {},
   "outputs": [],
   "source": []
  }
 ],
 "metadata": {
  "kernelspec": {
   "display_name": "Python [conda env:base] *",
   "language": "python",
   "name": "conda-base-py"
  },
  "language_info": {
   "codemirror_mode": {
    "name": "ipython",
    "version": 3
   },
   "file_extension": ".py",
   "mimetype": "text/x-python",
   "name": "python",
   "nbconvert_exporter": "python",
   "pygments_lexer": "ipython3",
   "version": "3.11.5"
  }
 },
 "nbformat": 4,
 "nbformat_minor": 5
}
