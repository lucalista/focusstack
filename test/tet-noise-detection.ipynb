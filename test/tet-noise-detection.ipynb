{
 "cells": [
  {
   "cell_type": "code",
   "execution_count": 1,
   "id": "1138c047-a7b9-413f-9647-e884f813f3c8",
   "metadata": {},
   "outputs": [],
   "source": [
    "import sys\n",
    "sys.path.append('../')\n",
    "from focus_stack import *"
   ]
  },
  {
   "cell_type": "code",
   "execution_count": 2,
   "id": "06ac0392-642c-4ad8-adde-510f1c83cbde",
   "metadata": {},
   "outputs": [
    {
     "name": "stdout",
     "output_type": "stream",
     "text": [
      "\u001b[1m\u001b[34m\u001b[1m\u001b[34mrunning noise-map\u001b[0m\u001b[0m\n",
      "\u001b[1m\u001b[34m\u001b[1m\u001b[34mrunning noise-map\u001b[0m: \u001b[34m: map noisy pixels, frames in folder: ./img-jpg\u001b[0m\u001b[0m\n"
     ]
    },
    {
     "data": {
      "application/vnd.jupyter.widget-view+json": {
       "model_id": "f3f742b69e184efabdbe13abf5feb1f0",
       "version_major": 2,
       "version_minor": 0
      },
      "text/plain": [
       "noise-map:   0%|          | 0/6 [00:00<?, ?it/s]"
      ]
     },
     "metadata": {},
     "output_type": "display_data"
    },
    {
     "name": "stdout",
     "output_type": "stream",
     "text": [
      "\u001b[1m\u001b[34m\u001b[1m\u001b[34mrunning noise-map\u001b[0m: hot pixels, r: 0            \u001b[0m\u001b[0m\n",
      "\u001b[1m\u001b[34m\u001b[1m\u001b[34mrunning noise-map\u001b[0m: hot pixels, g: 0            \u001b[0m\n",
      "\u001b[1m\u001b[34m\u001b[1m\u001b[34mrunning noise-map\u001b[0m: hot pixels, b: 0            \u001b[0m\n",
      "\u001b[1m\u001b[34m\u001b[1m\u001b[34mrunning noise-map\u001b[0m: hot pixels, rgb: 0            \u001b[0m\n",
      "\u001b[1m\u001b[32mnoise-map: \u001b[0m\u001b[32melapsed time: 00:00:00.15s                    \u001b[0m\n",
      "\u001b[32mnoise-map completed                    \u001b[0m\n",
      "\u001b[1m\u001b[32mjob: \u001b[0m\u001b[32melapsed time: 00:00:00.15s                    \u001b[0m\n",
      "\u001b[32mjob completed                    \u001b[0m\n"
     ]
    }
   ],
   "source": [
    "job = StackJob(\"job\", \"./\")\n",
    "job.add_action(NoiseDetection(\"noise-map\", input_path=[\"img-jpg\"]))\n",
    "job.run()"
   ]
  }
 ],
 "metadata": {
  "kernelspec": {
   "display_name": "Python [conda env:base] *",
   "language": "python",
   "name": "conda-base-py"
  },
  "language_info": {
   "codemirror_mode": {
    "name": "ipython",
    "version": 3
   },
   "file_extension": ".py",
   "mimetype": "text/x-python",
   "name": "python",
   "nbconvert_exporter": "python",
   "pygments_lexer": "ipython3",
   "version": "3.12.7"
  }
 },
 "nbformat": 4,
 "nbformat_minor": 5
}
