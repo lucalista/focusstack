{
 "cells": [
  {
   "cell_type": "code",
   "execution_count": 1,
   "id": "1138c047-a7b9-413f-9647-e884f813f3c8",
   "metadata": {},
   "outputs": [],
   "source": [
    "import sys\n",
    "sys.path.append('../')\n",
    "from focus_stack import *"
   ]
  },
  {
   "cell_type": "code",
   "execution_count": 2,
   "id": "06ac0392-642c-4ad8-adde-510f1c83cbde",
   "metadata": {},
   "outputs": [
    {
     "name": "stdout",
     "output_type": "stream",
     "text": [
      "\u001b[1m\u001b[34m\u001b[1m\u001b[34mrunning noise-map\u001b[0m\u001b[0m\n",
      "\u001b[1m\u001b[34m\u001b[1m\u001b[34mrunning noise-map\u001b[0m: \u001b[34m: detect noisy pixels in folders: ./img-jpg\u001b[0m\u001b[0m\n",
      "\u001b[1m\u001b[34m\u001b[1m\u001b[34mrunning noise-map\u001b[0m: \u001b[34m: frames: 0005.jpg, 0004.jpg, 0003.jpg, 0002.jpg, 0001.jpg, 0000.jpg\u001b[0m\u001b[0m\n",
      "\u001b[1m\u001b[34m\u001b[1m\u001b[34mrunning noise-map\u001b[0m: \u001b[34m: reading files\u001b[0m\u001b[0m\n"
     ]
    },
    {
     "data": {
      "application/vnd.jupyter.widget-view+json": {
       "model_id": "e1325ec795784e20a1418814d0a8a129",
       "version_major": 2,
       "version_minor": 0
      },
      "text/plain": [
       "noise-map:   0%|          | 0/6 [00:00<?, ?it/s]"
      ]
     },
     "metadata": {},
     "output_type": "display_data"
    },
    {
     "name": "stdout",
     "output_type": "stream",
     "text": [
      "\u001b[1m\u001b[34m\u001b[1m\u001b[34mrunning noise-map\u001b[0m: \u001b[34mhot pixels, r: 0    \u001b[0m\u001b[0m\n",
      "\u001b[1m\u001b[34m\u001b[1m\u001b[34mrunning noise-map\u001b[0m: \u001b[34mhot pixels, g: 0    \u001b[0m\u001b[0m\n",
      "\u001b[1m\u001b[34m\u001b[1m\u001b[34mrunning noise-map\u001b[0m: \u001b[34mhot pixels, b: 0    \u001b[0m\u001b[0m\n",
      "\u001b[1m\u001b[34m\u001b[1m\u001b[34mrunning noise-map\u001b[0m: \u001b[34mhot pixels, rgb: 0  \u001b[0m\u001b[0m\n",
      "\u001b[1m\u001b[32mnoise-map: \u001b[0m\u001b[32melapsed time: 00:00:00.23s                    \u001b[0m\n",
      "\u001b[32mnoise-map completed                    \u001b[0m\n",
      "\u001b[1m\u001b[32mjob: \u001b[0m\u001b[32melapsed time: 00:00:00.23s                    \u001b[0m\n",
      "\u001b[32mjob completed                    \u001b[0m\n"
     ]
    }
   ],
   "source": [
    "job = StackJob(\"job\", \"./\")\n",
    "job.add_action(NoiseDetection(\"noise-map\", input_path=[\"img-jpg\"], reverse_order=True))\n",
    "job.run()"
   ]
  }
 ],
 "metadata": {
  "kernelspec": {
   "display_name": "Python 3 (ipykernel)",
   "language": "python",
   "name": "python3"
  },
  "language_info": {
   "codemirror_mode": {
    "name": "ipython",
    "version": 3
   },
   "file_extension": ".py",
   "mimetype": "text/x-python",
   "name": "python",
   "nbconvert_exporter": "python",
   "pygments_lexer": "ipython3",
   "version": "3.13.3"
  }
 },
 "nbformat": 4,
 "nbformat_minor": 5
}
