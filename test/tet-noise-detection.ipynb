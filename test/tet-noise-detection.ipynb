{
 "cells": [
  {
   "cell_type": "code",
   "execution_count": 1,
   "id": "1138c047-a7b9-413f-9647-e884f813f3c8",
   "metadata": {},
   "outputs": [],
   "source": [
    "import sys\n",
    "sys.path.append('../')\n",
    "from focus_stack import *"
   ]
  },
  {
   "cell_type": "code",
   "execution_count": 4,
   "id": "06ac0392-642c-4ad8-adde-510f1c83cbde",
   "metadata": {},
   "outputs": [
    {
     "name": "stdout",
     "output_type": "stream",
     "text": [
      "\u001b[1m\u001b[34mnoise-map\u001b[0m: detect noisy pixels in folders: ./img-jpg\n",
      "\u001b[1m\u001b[34mnoise-map\u001b[0m: frames: 0005.jpg, 0004.jpg, 0003.jpg, 0002.jpg, 0001.jpg, 0000.jpg\n",
      "\u001b[1m\u001b[34mnoise-map\u001b[0m: reading files\n",
      "reading: 0005.jpg\n",
      "reading: 0004.jpg\n",
      "reading: 0003.jpg\n",
      "reading: 0002.jpg\n",
      "reading: 0001.jpg\n",
      "reading: 0000.jpg\n",
      "hot pixels, r: 0\n",
      "hot pixels, g: 0\n",
      "hot pixels, b: 0\n",
      "hot pixels, rgb: 0\n",
      "\u001b[1m\u001b[32mjob: \u001b[0m\u001b[32melapsed time: 00:00:00.27s                    \u001b[0m\n",
      "\u001b[32mjob completed                    \u001b[0m\n"
     ]
    }
   ],
   "source": [
    "job = StackJob(\"job\", \"./\")\n",
    "job.add_action(NoiseDetection(\"noise-map\", input_path=[\"img-jpg\"], reverse_order=True))\n",
    "job.run()"
   ]
  },
  {
   "cell_type": "code",
   "execution_count": null,
   "id": "9a749847-e6ca-4c71-8407-2b055751ff25",
   "metadata": {},
   "outputs": [],
   "source": []
  }
 ],
 "metadata": {
  "kernelspec": {
   "display_name": "Python 3 (ipykernel)",
   "language": "python",
   "name": "python3"
  },
  "language_info": {
   "codemirror_mode": {
    "name": "ipython",
    "version": 3
   },
   "file_extension": ".py",
   "mimetype": "text/x-python",
   "name": "python",
   "nbconvert_exporter": "python",
   "pygments_lexer": "ipython3",
   "version": "3.13.3"
  }
 },
 "nbformat": 4,
 "nbformat_minor": 5
}
