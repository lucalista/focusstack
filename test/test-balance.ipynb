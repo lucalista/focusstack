{
 "cells": [
  {
   "cell_type": "code",
   "execution_count": null,
   "id": "bd4d129e-9593-4a23-944e-d9bd570960f5",
   "metadata": {},
   "outputs": [],
   "source": [
    "import sys\n",
    "sys.path.append('../')\n",
    "from focus_stack import *"
   ]
  },
  {
   "cell_type": "code",
   "execution_count": null,
   "id": "0e498394-1e1c-4ccb-a546-7e4d4a3bc9fa",
   "metadata": {},
   "outputs": [],
   "source": [
    "job = StackJob(\"job\", \"./\", input_path=\"img-jpg\")\n",
    "job.add_action(MultiRefActions(\"img-jpg-balance-lumi\", actions=[Balance(LumiCorrection(corr_map=LINEAR, plot_histograms=True))]))\n",
    "job.run()"
   ]
  },
  {
   "cell_type": "code",
   "execution_count": null,
   "id": "d5404e4e-7dbc-46c0-ad37-7cbde3419628",
   "metadata": {},
   "outputs": [],
   "source": [
    "job = StackJob(\"job\", \"./\", input_path=\"img-tif\")\n",
    "job.add_action(MultiRefActions(\"img-jpg-balance-lumi-tif\", actions=[Balance(LumiCorrection(corr_map=GAMMA, plot_histograms=True))]))\n",
    "job.run()"
   ]
  },
  {
   "cell_type": "code",
   "execution_count": null,
   "id": "707016a5-2dd5-40a3-acb5-17263e506e3a",
   "metadata": {},
   "outputs": [],
   "source": [
    "job = StackJob(\"job\", \"./\", input_path=\"img-jpg\")\n",
    "job.add_action(MultiRefActions(\"img-jpg-balance-rgb-jpg\", actions=[Balance(RGBCorrection(corr_map=LINEAR, plot_histograms=True))]))\n",
    "job.run()"
   ]
  },
  {
   "cell_type": "code",
   "execution_count": null,
   "id": "b3c7b8cb-c214-423a-94a3-87ff5e06d4e1",
   "metadata": {},
   "outputs": [],
   "source": [
    "job = StackJob(\"job\", \"./\", input_path=\"img-jpg\")\n",
    "job.add_action(MultiRefActions(\"img-jpg-balance-sv-jpg\", actions=[Balance(SVCorrection(corr_map=LINEAR, plot_histograms=True))]))\n",
    "job.run()"
   ]
  },
  {
   "cell_type": "code",
   "execution_count": null,
   "id": "ab329859-53c3-4f8c-8429-e9469926a5a4",
   "metadata": {},
   "outputs": [],
   "source": [
    "job = StackJob(\"job\", \"./\", input_path=\"img-jpg\")\n",
    "job.add_action(MultiRefActions(\"img-jpg-balance-ls-jpg\", actions=[Balance(LSCorrection(corr_map=GAMMA, plot_histograms=True))]))\n",
    "job.run()"
   ]
  }
 ],
 "metadata": {
  "kernelspec": {
   "display_name": "Python [conda env:base] *",
   "language": "python",
   "name": "conda-base-py"
  },
  "language_info": {
   "codemirror_mode": {
    "name": "ipython",
    "version": 3
   },
   "file_extension": ".py",
   "mimetype": "text/x-python",
   "name": "python",
   "nbconvert_exporter": "python",
   "pygments_lexer": "ipython3",
   "version": "3.12.7"
  }
 },
 "nbformat": 4,
 "nbformat_minor": 5
}
