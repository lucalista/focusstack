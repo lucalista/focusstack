{
 "cells": [
  {
   "cell_type": "code",
   "execution_count": 3,
   "id": "e5f37004-f3b0-4996-a344-a501b943fde1",
   "metadata": {},
   "outputs": [],
   "source": [
    "import tifffile"
   ]
  },
  {
   "cell_type": "code",
   "execution_count": 4,
   "id": "da9ff2de-153b-4909-9918-f21544d0f36e",
   "metadata": {
    "editable": true,
    "slideshow": {
     "slide_type": ""
    },
    "tags": []
   },
   "outputs": [],
   "source": [
    "path = \"img-tif\"\n",
    "in_paths = [(path + \"/000{:d}.tif\".format(i)) for i in range(5)]\n",
    "images = [tifffile.imread(p) for p in in_paths]\n",
    "out_path = \"img-test/multi.tif\"\n",
    "with tifffile.TiffWriter(out_path) as tiff:\n",
    "    for i, img in enumerate(images):\n",
    "        tiff.write(img, photometric='rgb',\n",
    "            contiguous=False, #planarconfig='separate',\n",
    "            compression='none', subfiletype=1 if i > 0 else 0,\n",
    "            predictor=False,\n",
    "            metadata={'LayerName': f'Layer_{i+1}',\n",
    "                'DocumentName': 'Multilayer TIFF',\n",
    "                'Software': 'Python tifffile'})"
   ]
  },
  {
   "cell_type": "code",
   "execution_count": null,
   "id": "5a865efa-62ad-4c02-b0a4-71c198f48aff",
   "metadata": {},
   "outputs": [],
   "source": []
  }
 ],
 "metadata": {
  "kernelspec": {
   "display_name": "Python [conda env:base] *",
   "language": "python",
   "name": "conda-base-py"
  },
  "language_info": {
   "codemirror_mode": {
    "name": "ipython",
    "version": 3
   },
   "file_extension": ".py",
   "mimetype": "text/x-python",
   "name": "python",
   "nbconvert_exporter": "python",
   "pygments_lexer": "ipython3",
   "version": "3.12.7"
  }
 },
 "nbformat": 4,
 "nbformat_minor": 5
}
