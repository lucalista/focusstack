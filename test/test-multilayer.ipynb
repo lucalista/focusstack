{
 "cells": [
  {
   "cell_type": "code",
   "execution_count": 2,
   "id": "c39e71f8-b74c-467d-a34c-0bf7153ecc67",
   "metadata": {},
   "outputs": [],
   "source": [
    "import sys\n",
    "sys.path.append('../')\n",
    "from focus_stack import *"
   ]
  },
  {
   "cell_type": "code",
   "execution_count": 3,
   "id": "360ee979-4770-4d3f-a75e-e8c8850b8083",
   "metadata": {},
   "outputs": [
    {
     "name": "stdout",
     "output_type": "stream",
     "text": [
      "\u001b[1m\u001b[34mimg-tiff-multilayer\u001b[0m: merging frames in folders: ./img-tif, ./img-tif-stack\n",
      "\u001b[1m\u001b[34mimg-tiff-multilayer\u001b[0m: frames: 0005.tif, 0004.tif, 0003.tif, 0002.tif, 0000.tif, 0001.tif, 0001_pyr.tif\n",
      "\u001b[1m\u001b[34mimg-tiff-multilayer\u001b[0m: reading files\n",
      "\u001b[1m\u001b[34mimg-tiff-multilayer\u001b[0m: writing multilayer tiff img-tiff-multilayer/0001_pyr.tif\n",
      "\u001b[1m\u001b[32mjob: \u001b[0m\u001b[32melapsed time: 00:00:03.58s                    \u001b[0m\n",
      "\u001b[32mjob completed                    \u001b[0m\n"
     ]
    }
   ],
   "source": [
    "job = StackJob(\"job\", \"./\", input_path=\"img-tif\")\n",
    "job.add_action(MultiLayer(\"img-tiff-multilayer\", input_path=[\"img-tif\", \"img-tif-stack\"], reverse_order=True))\n",
    "job.run()"
   ]
  }
 ],
 "metadata": {
  "kernelspec": {
   "display_name": "Python [conda env:base] *",
   "language": "python",
   "name": "conda-base-py"
  },
  "language_info": {
   "codemirror_mode": {
    "name": "ipython",
    "version": 3
   },
   "file_extension": ".py",
   "mimetype": "text/x-python",
   "name": "python",
   "nbconvert_exporter": "python",
   "pygments_lexer": "ipython3",
   "version": "3.12.7"
  }
 },
 "nbformat": 4,
 "nbformat_minor": 5
}
