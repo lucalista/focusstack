{
 "cells": [
  {
   "cell_type": "code",
   "execution_count": 24,
   "id": "28933727-6c33-4b23-a18f-fe0259c26d99",
   "metadata": {
    "tags": []
   },
   "outputs": [],
   "source": [
    "import sys\n",
    "sys.path.append('../')\n",
    "from focus_stack.framework import Job, JobBase, ActionList\n",
    "from termcolor import colored, cprint\n",
    "import time\n",
    "import logging\n",
    "from focus_stack.logging import setup_logging, console_logging_overwrite, console_logging_newline"
   ]
  },
  {
   "cell_type": "code",
   "execution_count": 40,
   "id": "cfcf0407-fd34-4b6f-9f0c-3e2801d7f43a",
   "metadata": {
    "tags": []
   },
   "outputs": [],
   "source": [
    "class Action1(JobBase):\n",
    "    def __init__(self):\n",
    "        JobBase.__init__(self, \"action 1\")\n",
    "    def run(self):\n",
    "        self.print_message(colored(\"run 1\", \"blue\", attrs=[\"bold\"]))\n",
    "        time.sleep(0.5)\n",
    "        \n",
    "class Action2(JobBase):\n",
    "    def __init__(self):\n",
    "        JobBase.__init__(self, \"action 2\")\n",
    "    def run(self):\n",
    "        self.print_message(colored(\"run 2\", \"blue\", attrs=[\"bold\"]))\n",
    "        time.sleep(0.7)\n",
    "\n",
    "class MyActionList(ActionList):\n",
    "    def __init__(self, name):\n",
    "        ActionList.__init__(self, name)\n",
    "    def begin(self):\n",
    "        self.counts = 10\n",
    "    def run_step(self):\n",
    "        cprint(\"action: {} \".format(self.count), \"blue\", end='\\r')\n",
    "        time.sleep(0.1)"
   ]
  },
  {
   "cell_type": "code",
   "execution_count": 42,
   "id": "bcf1f00f-132f-4087-8491-cf4bdfe52f9b",
   "metadata": {
    "tags": []
   },
   "outputs": [],
   "source": [
    "job = Job(\"job\")"
   ]
  },
  {
   "cell_type": "code",
   "execution_count": 44,
   "id": "388bdf77-5878-4475-9fa9-a6de063f4c4b",
   "metadata": {
    "tags": []
   },
   "outputs": [],
   "source": [
    "job.add_action(Action1())\n",
    "job.add_action(Action2())\n",
    "job.add_action(MyActionList(\"my actions\"))"
   ]
  },
  {
   "cell_type": "code",
   "execution_count": 46,
   "id": "359969e0-3f25-459c-999e-184503f38578",
   "metadata": {
    "tags": []
   },
   "outputs": [
    {
     "name": "stdout",
     "output_type": "stream",
     "text": [
      "\u001b[32m[INF 2025-05-11 08:21:04,789]\u001b[0m \u001b[1m\u001b[34m\u001b[1m\u001b[34mrunning action 1\u001b[0m: \u001b[1m\u001b[34mrun 1\u001b[0m\u001b[0m\n",
      "\u001b[32m[INF 2025-05-11 08:21:05,296]\u001b[0m \u001b[1m\u001b[34m\u001b[1m\u001b[34mrunning action 2\u001b[0m: \u001b[1m\u001b[34mrun 2\u001b[0m\u001b[0m\n",
      "\u001b[32m[INF 2025-05-11 08:21:06,004]\u001b[0m \u001b[1m\u001b[34m\u001b[1m\u001b[34mrunning my actions\u001b[0m\u001b[0m\r"
     ]
    },
    {
     "data": {
      "application/vnd.jupyter.widget-view+json": {
       "model_id": "50e4f00ae9c34fd9908cb1551e2c5dbc",
       "version_major": 2,
       "version_minor": 0
      },
      "text/plain": [
       "my actions:   0%|          | 0/10 [00:00<?, ?it/s]"
      ]
     },
     "metadata": {},
     "output_type": "display_data"
    },
    {
     "name": "stdout",
     "output_type": "stream",
     "text": [
      "\u001b[32m[INF 2025-05-11 08:21:07,068]\u001b[0m \u001b[1m\u001b[32mmy actions: \u001b[0m\u001b[32melapsed time: 00:00:01.06s                    \u001b[0m\n",
      "\u001b[32m[INF 2025-05-11 08:21:07,069]\u001b[0m \u001b[1m\u001b[32mmy actions: \u001b[0m\u001b[32mcompleted                    \u001b[0m\n",
      "\u001b[32m[INF 2025-05-11 08:21:07,070]\u001b[0m \u001b[1m\u001b[32mjob: \u001b[0m\u001b[32melapsed time: 00:00:02.28s                    \u001b[0m\n",
      "\u001b[32m[INF 2025-05-11 08:21:07,070]\u001b[0m \u001b[1m\u001b[32mjob: \u001b[0m\u001b[32mcompleted                    \u001b[0m\n"
     ]
    }
   ],
   "source": [
    "job.run()"
   ]
  },
  {
   "cell_type": "code",
   "execution_count": null,
   "id": "ee0d7651-93ad-43ef-838f-e2f6fa38b7d5",
   "metadata": {},
   "outputs": [],
   "source": []
  }
 ],
 "metadata": {
  "kernelspec": {
   "display_name": "Python [conda env:base] *",
   "language": "python",
   "name": "conda-base-py"
  },
  "language_info": {
   "codemirror_mode": {
    "name": "ipython",
    "version": 3
   },
   "file_extension": ".py",
   "mimetype": "text/x-python",
   "name": "python",
   "nbconvert_exporter": "python",
   "pygments_lexer": "ipython3",
   "version": "3.12.7"
  }
 },
 "nbformat": 4,
 "nbformat_minor": 5
}
