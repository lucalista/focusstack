{
 "cells": [
  {
   "cell_type": "code",
   "execution_count": 2,
   "id": "081506d6-d978-425b-94d8-008f05ed403a",
   "metadata": {},
   "outputs": [
    {
     "ename": "ImportError",
     "evalue": "cannot import name 'console_logging_overwrite' from 'focus_stack' (/Users/lista/Documents/GitHub/focusstack/test/../focus_stack/__init__.py)",
     "output_type": "error",
     "traceback": [
      "\u001b[0;31m---------------------------------------------------------------------------\u001b[0m",
      "\u001b[0;31mImportError\u001b[0m                               Traceback (most recent call last)",
      "Cell \u001b[0;32mIn[2], line 4\u001b[0m\n\u001b[1;32m      2\u001b[0m \u001b[38;5;28;01mimport\u001b[39;00m \u001b[38;5;21;01msys\u001b[39;00m\n\u001b[1;32m      3\u001b[0m sys\u001b[38;5;241m.\u001b[39mpath\u001b[38;5;241m.\u001b[39mappend(\u001b[38;5;124m'\u001b[39m\u001b[38;5;124m../\u001b[39m\u001b[38;5;124m'\u001b[39m)\n\u001b[0;32m----> 4\u001b[0m \u001b[38;5;28;01mfrom\u001b[39;00m \u001b[38;5;21;01mfocus_stack\u001b[39;00m \u001b[38;5;28;01mimport\u001b[39;00m setup_logging, console_logging_overwrite, console_logging_newline\n",
      "\u001b[0;31mImportError\u001b[0m: cannot import name 'console_logging_overwrite' from 'focus_stack' (/Users/lista/Documents/GitHub/focusstack/test/../focus_stack/__init__.py)"
     ]
    }
   ],
   "source": [
    "import logging\n",
    "import sys\n",
    "sys.path.append('../')\n",
    "from focus_stack import setup_logging, console_logging_overwrite, console_logging_newline"
   ]
  },
  {
   "cell_type": "code",
   "execution_count": null,
   "id": "bf025a49-21eb-47cc-ac33-2b925beb955d",
   "metadata": {},
   "outputs": [],
   "source": [
    "setup_logging(\n",
    "    console_level=logging.DEBUG,\n",
    "    file_level=logging.DEBUG,\n",
    "    log_file=\"logs/focusstack.log\"\n",
    ")"
   ]
  },
  {
   "cell_type": "code",
   "execution_count": null,
   "id": "b3b69eb4-c421-43fa-9f4f-0040e974a7ba",
   "metadata": {},
   "outputs": [],
   "source": [
    "logger = logging.getLogger(__name__) \n",
    "logger.info('Started')\n",
    "logger.debug('pi = 3.14')\n",
    "logger.warning('warning...!')\n",
    "logger.error('crash...!')\n",
    "logger.critical('stop...!')\n",
    "logger.info('\\033[32mcolored message, b&w on log file\\033[0m')\n",
    "console_logging_overwrite()\n",
    "logger.info('this message is in log file only')\n",
    "console_logging_newline()\n",
    "logger.info('this message is in log file and on console')\n",
    "logger.info('Finished')"
   ]
  },
  {
   "cell_type": "code",
   "execution_count": null,
   "id": "091aff2a-06e1-4fef-948f-4a491b3f809b",
   "metadata": {},
   "outputs": [],
   "source": []
  }
 ],
 "metadata": {
  "kernelspec": {
   "display_name": "Python [conda env:base] *",
   "language": "python",
   "name": "conda-base-py"
  },
  "language_info": {
   "codemirror_mode": {
    "name": "ipython",
    "version": 3
   },
   "file_extension": ".py",
   "mimetype": "text/x-python",
   "name": "python",
   "nbconvert_exporter": "python",
   "pygments_lexer": "ipython3",
   "version": "3.12.7"
  }
 },
 "nbformat": 4,
 "nbformat_minor": 5
}
