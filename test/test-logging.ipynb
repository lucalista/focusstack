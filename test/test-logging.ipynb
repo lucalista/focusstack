{
 "cells": [
  {
   "cell_type": "code",
   "execution_count": 4,
   "id": "081506d6-d978-425b-94d8-008f05ed403a",
   "metadata": {},
   "outputs": [],
   "source": [
    "import logging\n",
    "import sys\n",
    "sys.path.append('../')\n",
    "from focus_stack import setup_logging"
   ]
  },
  {
   "cell_type": "code",
   "execution_count": 5,
   "id": "bf025a49-21eb-47cc-ac33-2b925beb955d",
   "metadata": {},
   "outputs": [],
   "source": [
    "setup_logging(\n",
    "    console_level=logging.DEBUG,\n",
    "    file_level=logging.DEBUG,\n",
    "    log_file=\"logs/focusstack.log\"\n",
    ")"
   ]
  },
  {
   "cell_type": "code",
   "execution_count": 11,
   "id": "b3b69eb4-c421-43fa-9f4f-0040e974a7ba",
   "metadata": {},
   "outputs": [
    {
     "name": "stdout",
     "output_type": "stream",
     "text": [
      "\u001b[32m[INF 2025-05-10 22:43:53,012]\u001b[0m Started\n",
      "\u001b[36m[DEB 2025-05-10 22:43:53,013]\u001b[0m pi = 3.14\n",
      "\u001b[33m[WAR 2025-05-10 22:43:53,014]\u001b[0m warning...!\n",
      "\u001b[31m[ERR 2025-05-10 22:43:53,015]\u001b[0m crash...!\n",
      "\u001b[31;1m[CRI 2025-05-10 22:43:53,016]\u001b[0m stop...!\n",
      "\u001b[32m[INF 2025-05-10 22:43:53,017]\u001b[0m \u001b[32mcolored message, b&w on log file\u001b[0m\n",
      "\u001b[32m[INF 2025-05-10 22:43:53,017]\u001b[0m info message 1\n",
      "\u001b[32m[INF 2025-05-10 22:43:53,018]\u001b[0m info message 2\n",
      "\u001b[32m[INF 2025-05-10 22:43:53,019]\u001b[0m Finished\n"
     ]
    }
   ],
   "source": [
    "logger = logging.getLogger(__name__) \n",
    "logger.info('Started')\n",
    "logger.debug('pi = 3.14')\n",
    "logger.warning('warning...!')\n",
    "logger.error('crash...!')\n",
    "logger.critical('stop...!')\n",
    "logger.info('\\033[32mcolored message, b&w on log file\\033[0m')\n",
    "logger.info('info message 1')\n",
    "logger.info('info message 2')\n",
    "logger.info('Finished')"
   ]
  },
  {
   "cell_type": "code",
   "execution_count": null,
   "id": "625912f1-447f-4f6c-931d-5727211995b8",
   "metadata": {},
   "outputs": [],
   "source": []
  }
 ],
 "metadata": {
  "kernelspec": {
   "display_name": "Python [conda env:base] *",
   "language": "python",
   "name": "conda-base-py"
  },
  "language_info": {
   "codemirror_mode": {
    "name": "ipython",
    "version": 3
   },
   "file_extension": ".py",
   "mimetype": "text/x-python",
   "name": "python",
   "nbconvert_exporter": "python",
   "pygments_lexer": "ipython3",
   "version": "3.12.7"
  }
 },
 "nbformat": 4,
 "nbformat_minor": 5
}
